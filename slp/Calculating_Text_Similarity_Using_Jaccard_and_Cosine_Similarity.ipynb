{
  "nbformat": 4,
  "nbformat_minor": 0,
  "metadata": {
    "kernelspec": {
      "display_name": "Python 3",
      "language": "python",
      "name": "python3"
    },
    "language_info": {
      "codemirror_mode": {
        "name": "ipython",
        "version": 3
      },
      "file_extension": ".py",
      "mimetype": "text/x-python",
      "name": "python",
      "nbconvert_exporter": "python",
      "pygments_lexer": "ipython3",
      "version": "3.5.2"
    },
    "colab": {
      "name": "Calculating Text Similarity Using Jaccard and Cosine Similarity.ipynb",
      "provenance": []
    }
  },
  "cells": [
    {
      "cell_type": "markdown",
      "metadata": {
        "id": "B-FPW2n_YeRz"
      },
      "source": [
        "**Cosine similarity:** The cosine similarity is a technique to find the similarity between the two vectors by calculating the cosine of the angle between them. As we know, the cosine of a zero-degree angle is 1 (meaning the cosine similarity of two identical vectors is 1), while the cosine of 180 degrees is -1 (meaning the cosine of two opposite vectors is -1). Thus, we can use this cosine angle to find the similarity between the vectors from 1 to -1. To use this technique in finding text similarity, we convert text into vectors using one of the previously discussed techniques and find the similarity between the vectors of the text. This is calculated as follows:\n",
        "\n",
        "![B16062_02_26.jpg](data:image/jpeg;base64,/9j/4AAQSkZJRgABAgEAzwDPAAD/7QAsUGhvdG9zaG9wIDMuMAA4QklNA+0AAAAAABAAzwAAAAEAAQDPAAAAAQAB/+4AE0Fkb2JlAGSAAAAAAQUAAklE/9sAhAACAgIDAgMDAwMDBQQEBAUFBQUFBQUHBgYGBgYHCAcICAgIBwgJCgoKCgoJCwwMDAwLDAwMDAwMDAwMDAwMDAwMAQMDAwcFBw0HBw0PDQ0NDw8ODg4ODw8MDAwMDA8PDA4ODg4MDwwREREREQwRERERERERERERERERERERERERERH/wAARCAA8BH0DAREAAhEBAxEB/8QBogAAAAcBAQEBAQAAAAAAAAAABAUDAgYBAAcICQoLAQACAgMBAQEBAQAAAAAAAAABAAIDBAUGBwgJCgsQAAIBAwMCBAIGBwMEAgYCcwECAxEEAAUhEjFBUQYTYSJxgRQykaEHFbFCI8FS0eEzFmLwJHKC8SVDNFOSorJjc8I1RCeTo7M2F1RkdMPS4ggmgwkKGBmElEVGpLRW01UoGvLj88TU5PRldYWVpbXF1eX1ZnaGlqa2xtbm9jdHV2d3h5ent8fX5/c4SFhoeIiYqLjI2Oj4KTlJWWl5iZmpucnZ6fkqOkpaanqKmqq6ytrq+hEAAgIBAgMFBQQFBgQIAwNtAQACEQMEIRIxQQVRE2EiBnGBkTKhsfAUwdHhI0IVUmJy8TMkNEOCFpJTJaJjssIHc9I14kSDF1STCAkKGBkmNkUaJ2R0VTfyo7PDKCnT4/OElKS0xNTk9GV1hZWltcXV5fVGVmZ2hpamtsbW5vZHV2d3h5ent8fX5/c4SFhoeIiYqLjI2Oj4OUlZaXmJmam5ydnp+So6SlpqeoqaqrrK2ur6/9oADAMBAAIRAxEAPwD7+Yq7FXYq7FXYq7FXYq7FXYq7FXYq7FXYq7FXYq7FXYq7FXYq7FXYq7FXYq7FXYq7FXYq7FXYq7FXYq7FXYq7FXYq7FXYq7FXYq7FXYq7FXYq7FXYq7FXYq7FXYq7FXYq7FXYq7FXYq7FXYq7FXYq7FXYq7FXYq7FXYq7FXYq7FXYq7FXYq7FXYq7FXVxV2KuxV2KuxV2KuxV2Ku6Yq7FXYq7FXYq7FXYq7FXYq7FXYq7FXYq7FXYq7FXYq7FXYq7FXYq7FXYq7FXVxV2KuxV2KuxV2KuxV2KuxV2KuxV2KuxV2KuxV2KuxV2KuxV3XFXYq7FXYq7FXYq7FXYq7FXYq7FXYq7FXYq7FXYq7FXYq7FXYq7FXYq7FXYq7FXYq7FXYq7FXYq7FXYq7FXYq7FXYq7FXE0xVoMD0IOKt4q7FXYq7FXYq7FXYqpyzRwKWkkVFHUsQAPpOKuilSdFkjdXRhVWUggg9wR1xVUxV2KuxV2KuxV2KuxV2KuxV2KuxV2KuxV2KuxV2KuxV2KuxV2KuxV2KuxVxNMVfnH5r89+Yf+cwPPmq/lv5C1i50fyD5XuBD5u8x2ExiutRvEZW/RWnzxsGRRQieVd6VUUUj1VX6FaNpFroFhZ6bYxmO2tIo4YVZ3kYJGoVau5ZmNBuzEsTuSTiqNeeOMqrSKpboCQCfliqrir8+/+c97PzP5A0TQfzt8lXtwmp+QruO61HT1uZUtdU0eVxHcwzRKeDFA3IMVqi+oR8XHFX275K82WHn3y9ofmXS352WsWNrf2zeMNzEsqdP8lhirJ8VdirsVdirsVdirsVdirsVdirsVdirsVdir57/5yT/5yD0v/nHbyqNYuLR9T1fULiLTtD0e3I+s6lqNweMUKDqFBNXah4r0BYqrKsa/5xu/KHzZ5YjvPO/5ma/PqvnbzCiSXsCTyDTNJhIBSxsbcSNGqx7B5BVpGqeRG7KvqnFWga4q3irsVdirsVdirBPzO8iW/wCZvlXXfLFxeXFmupWskC3VpK8NxbyEVjlidGVgyOAw33pQ7E4q+SP+cBvzi1zzz5U8w+RPOl6Lnzf+XWqTeX9UkLMZLiGFmS1um5bn1FjZeR3Zo2Y7nFX3lirsVdirsVdirsVdirsVaJp1xVvFXYq7FXYq7FXYq7FXYq7FXzZ/zlN/zk1oH/OK/k5fNet2k2oS3F3BY2OnWzKs93PKalULVACoGYmh6U6kYq9x8oaxeeYdD0jVNQ0uTS7q9tYLiaxlcPJavKgcxOwABZK0ag6jFWRYq+Vf+co/+ci5PyU07SdD8taeNb89eapmsPLejhh+9nIo1xPuONvBUM5qK9KqOTKqyb/nHz8mdS/KvSru880+ZbvzJ5r1qT61rOpXE8rQes1T6FnAzcILeKvFFRVqAC37KqqjPz4/5yH8tf8AOPVr5YufMNrf3beYtatNCsYNOihlmNzdByrsJpoQI140YhiwLLRTXFXu4NQDirZNMVdirsVeCfnB/wA5E+XPyV1z8v8Ay7rNjqN3fedtVXSdNWwhhkWOUtGpknMs8RWJfUBYqHalfhOKve8VdirsVcDXpirsVeUfnh+ceh/kD5K1vz55kiuptN0lIWmiso45Ll/WmjgVY1lkiQnlIOrrtXFWX+SPNdv578u6F5ktLW4tbfWLG01CKC7REuIo7qJZlSVY3dQ6hgGAdgDWhPXFWUYq7FXYq8Z/P388/L3/ADjl5L1Hzz5nhu57CyktYTBYRxyXUslzMkKLEk0sSEgtyNXHwhjuRTFXqFpPB5i0yGZoXSG+tlYxSfDIEmSpVuDGjAGho3XocVfnj/zit5q138ofza/MP/nHzzPqV7qNpbL/AIk8o31/cPcTyaRcuPUt2lkJd/RkbiCf2ll7ccVfpJirsVdirsVdirsVdirsVdirsVdirsVdirsVdirsVdirsVdirsVdirsVdirsVdirsVdirsVdirsVdirsVdirsVdirsVfj5+ef5o69+e3/OU2h/8AOO7eYb3QfKNha/XNXTTLqSzu9Wl+p/Xvq7zxEOIivBSqlagyEknhxVeuf85L/wDOL1r+V/5V+bde/JrWNb8o67o1lLfobDXNSaK7ht1LzwywS3EiOzx8uD8eayBSGAqCq+3fyf8AKVz5E8h+T/Ll3M0t3pmkWFpcSuxdnuIoEWVixJJJcE1qcVfOf/OI/wCTf5w/lTqH5iT/AJo+f/8AE1rq+pm40aL63cXRtoeUpY1uEX0QysgEMdY047e6r7WxV2KuxV2Kvij8ivya/OHyP+bf5oeafOnn/wDTPlLW3ZtD0r63cTfVOUweOkEqLFb+lEDGRET6leTbgYq+Qv8An7ppulXmifl/o1hBKfNXmnXrbT7SVLm4HG1QFZAIkkEZJkliXdK7neoxV+tXkXyjY+QPLmg+WdMQpZ6PYWlhbg7n0raJYlqe5ou57nFWVYq7FXYq7FXy5/zmB+Wf5jfmz+XV5oH5W+az5b197u0lW8F5PZF4I3rLF9YtlaVOQofhHxU4H4WOKvbfy20bXPLnlTy5pfmbVhq2s2en2kGoX4BAubqOJVllFQDRmBNSAT1IBxVLvK35reXPOvmPzT5X0W8+uXnlr6mupyRANbwz3fqlYPUBoZUWImRR9gMldzQKvR8VdirsVdiq1mC7sQPmcVW+tH/vxfvGKu9aP/fi/eMVXhgwqDUe2Kt4q7FXYq7FXYq7FXYq7FXxL/znr+dupfk/+Wr2Hlh5P8V+b7yDy7oCQisour08WkXuDGleJof3hjHfFXtv/OOv5K6X/wA4+/l95d8kaYA/1C3U3dxSj3V7J8dxO/iXkJIqTRaLXbFXhH/Oan/OUOo/khY+XPJ/ki2iv/P/AJ2ul03QraQgpbmRliN3KCCOKM6hQ1FZqk1VHGKp5Y/84e+T5vKF5beeBL5r8y3lm7ah5i1KZ5dQ+tFCxe0lJBtI42NIY4eARAoNTUlV47/z69/PvXfzp/LHU9O8z30uoan5U1SXSvr08hknubUossDzOxJaRashY7lUUkliTir7b/Ozyxb+dfy+876Bdf3OpaLqdo58BNbSJUe4rUYq+TP+fX2u3Ou/845eRfrUjSNZtqdmjMan0ob2b0x8lUhR7AYq/QLFXYqpmVBsXX7xirvWj/34v3jFWxKjGgcE+xGKr8VdirsVdirsVdirsVdiriab4q/Lj8jJF/5yv/5yE87fmneyi68sflrNL5Z8qw8A0D6gy1vr0EkgsK/AwG6SRnYoKqv1HxV5F+en5tWX5J+S9Y81XVu93NbqsNhYwgtNfX9wwitbWJRuXllZV26Cp7Yq/OX/AJ9KfnL5g/NrRfzcl80Xz3eqHzMuqXDSNUq2owcCir0VFNtRVGwAoBir9d8Vdir4q/5z61Gx8ofk15183S63q+k6hpmnvHplxpWtX+nOt9cukNsSlpPEslJXUkOrfDy7VxV8nf8APun8pNd/OX8pF86fmP5887aheaxfXgsJB501y2EVlbkQAosF7GKmVJd2B6DtiqT/AJM/nz5//JX/AJyovv8AnHrXvNt95w8t34J0261dxPqVmWsTfxhrinKSgDRtzJr8Lrw3Uqv2exV+Yf5Q26+Wv+c1vzq060ASDWvKmkarMi7L68JtIOVPE82YnxY+OKv08xV2KrWdU+0wHzNMVW+tH/vxfvGKu9aP/fi/eMVVAa9MVdirsVfij/z9o/5yk1TydpWn/l15SlmSQ3Vhd+YryEELbpIZJ7GzMg+y9wbeSUqPi4RL+y5xV+xnk/XYfNGhaLrNu4eHULK1u43HRkniWRT9IOKsixV2Kvyc/wCfsXmS4/K/8trLzP5d8167oXmK/wBYsrK3fTPMGo2aPEIZXlH1aG5WGnFBVhHXkRU1O6r0b/nHL/nGW783fk55Qv8Azb+Yvnz/ABNrOlxX8+pw+dNZimgkvF9aMJCbowfukZVo8TBqVYGuKvGv+fd//OU3nzzj+Yn5j/kp5+1lvMNx5WN/LYaxKircPFYXqWMqTMgAfkXR0Ygv9vkzDjRV+wWKuxVpmCgkmgG5JxV+NHlRT/znn/zk3c+ZpFW5/Lr8o5Dbaayvyg1DWOXISjs49ROdV+H04YK7Sbqv2Y6Yqh7y7hsIJrq4kWOGFGkkdjRVRAWZifAAVxV+ZP8AzhbBJ/zkb598/f8AOSGtRzPbXN1P5e8lxXCcRbaLaORJMi70eZ9mIOziVakHFX6fYq/Lb/nL3Tl/Mn/nJL/nGLyO0lYdPutT8y3MdTxpYqs8JYDrV7UqPmexOKv1JxV+Tn/P1f8A5yN1L8uvy+vfI3lMyNqusW6S6xcwFg2maPJMtuGdlI4G7lb0Ur9pRLQbVCr75/5xv87H8x/yr/LzzM7hpdT0LTLicg1pO1unqivtJyH0Yq9qxV+W354Xr/mB/wA5l/kd5TRPVt/Kmiat5guNqqkl0k0KE+4MMVPDmKYq/UnFXYq+DdV/5yY1LWvN/wCYf5VecvJmreS7WWG7sPL/AJpk9Q6ff+rE8ayC6WNYreRiVaGsh3+BisoCsq+ePye/5yS1v8jvye/KPyZ5X8rar+Zvm+7s7S5voLFpZYtOtdQka5T65dhJVikEcqBI3IonxuUTjyVfrwpJAJFPbFX5l/8AP1LV2n/K7y15Lt2JufOXmvRdJWMfaaPm0zH5B0jH+yGKv0cXRbY6Umk0eK3+rLbUt5Xt3SMJwpG8LI6EDoVYFexGKvwB8rt5r/N//nMrzF+XXlr8xfOaeRNDuZ5dQtI/N2sARxWFrHFOiym7MgV748BR6hX+EgAYq+mv+c8tH83f84k+VdL/ADS/LD8x/Mls9pqVrZ32kaxrd7ren3UU4chhHqc1wUYMgBCkVUkjiwqVX6Of84/fmi351/lx5N88yWYs5dc023vJbdWLLFK6/vFUmhKhgeJO9KYq+GP+fm9s/neH8jvy1RyB5q88aes6qSOVtbqY5Sab8VFwGPyB6gYq/UWKNYkRFACqAAB0AG2Kvy0/5yelbyj/AM5a/wDONGv2hIl1W31rR7gDYPB6bgBvGhuSw91GKv1OxV2KuxV2KuxV2KuxV2KuxV2KuxV2KuxV2KuxV2KuxV2KuxV2KuxV2KuxV2KuxV2KuxV2KuxV2KuxV2KuxV2KuxV2KvxY/wCfkH/OLfnXTvM+m/8AORn5SS3C6/oaQtqtva/FP6dotI7qFAD6gWOqTRmvKMD4SA9VX13/AM4Q/wDOaGg/85feVZY7qKGy806ZEiaxpZIKSKQF+s26sSWgdjQg1MbHg1QUZ1WW/wDOcn5heYPyh/KLzT528t+a5dBv9HgQ25S0s7pLie4migiR1u4ZRTk/7NOtTUDFVf8A5w2vPP3mj8kfK2teeteluvMuv2k+pG8mhiJijvHd7QiKNY46CExtwCgbkYq+J/yC/wCcifzW8zfnb+bNhqvmufzV5e8o3Mug6PpltY2ll9f1i4mdYkZoIq8Yktrl5ZWdljRDIRTbFUr8/wD54/m3+UP/ADk9+X/lvzL+ZkN5pGpaZLquvaXbafHb6Vp9mi3TyRxFuc8hRICwlYiRmoKBW9MKq3/OfP5z/nb+W/l/yl540fzg3lR9W1y2s9J8qW9lDLdSW7RSSmbULmXlWUlUDQIvpx+oEZpG+MKv0c/P/wAya55P/KnzL5ot/MDaFqejaNc6i9xb29vcIZ4LZn9PhdxyKUaSg6BuwOKvB/8An3B54/ML80/yji87/mPrs2r6hrupXs1pLLFDAqWcDC2VUigjjRV9SKQ7LvXwpir5w/NiVfz2/wCc4vy58pNH6+mfl3pTaxcp1CXpBukc+wc2dPce+Kv0Q/5yO/5yF8tf84z+TL3zh5kZ5FR1t7Kyh/v768kBMcEQ8TQkk7KoLHpirzT8vvI/5m/mToEPmr8xfOepeWdTv4vrVtoWgtBb22kROA8cc7zW8ktzcKKer6jGLlVViABLKvDf+fc35t/mN+fX/Kz/ADn511t73Tk1aHSNJt1RIraJrOMtcPEiKPt+pESSW8AdsVYb/wA5sfnj54/Kj83Pyi8s6P8AmTc6bomuT3WoeYLUWdlS20uxlildkmW2a4CmFZwaMT8G1Tir0/VfL3/OUPnb8yfy786aX5gsdF8jzXUU2peWmVUubXTeSsVu2eMtNdTREgqhCW8tFWoDSsq8s/5yf/NT81tN/wCcivyp/KXyP+YN1HZ+ZJItR1axWxsA1tp6XLtJwuBbesB6EEx3fl8I+LfFX1//AM5qXOoaR+UHnXW7DzjqflptJ028uzNpRtknuHSJhFAZZ4ZWjV5CoLRcJOyuO6r47/59n/kN5s0b8odG80/8rC1nSD5oub/V7jTo7LSZo5mlY28Vw813YTXJZ0iSQfvuG4PH4mqqidB/Nb8zvyL/AOcr9N/Lj8wPP1z5i8qec9MlbQ5r22tLf0rn4mjQi0ggQSiSJovhUBxLGSORFFX0F/zk4/5qeXvzG/JfW/JvnBbby/ea9aaLq+gGBCbtLkyTSzhyrFglvE9RVfT4+op3air7mxV2KvmX/nKj/nGvy/8A85TeVbLyj5l17UNJs7e/i1APp0sEcskkUckaqxnjkBWkpNAOtN8Vfn7/ANEY/wAof/Lh+Z/+krTv+yPFXf8ARGP8of8Ay4fmf/pK07/sjxV+n/5Efk5o35A+RdB8h6BcXFzp+kpMsU90yNPKZ55Lh3kMaopJeQ9FG2KvXcVfLX/OUv8Azk/pf/ON+jaYsdg2teZ/MFwLDy9ocDhZr67cqgJrusSM6B2p1ZVG7Yq8/wDOn5efnAPy28w+Y77zpql958TSrq5sNI8vG3sdMt7/ANNmhghRonkuAj0DGeV/UoeIQMFCrNfyh/N3zL5R/JHTvPX59JF5f1bT7OabWDIqRECOVkiZokJAlmXh+7XrI3FVBIUKvLPyG88/mN/zmBa3Xnq71C88j+Q55pI9A06wWFdW1OGM8Td3d1IspijLBgkcIQnersoVpFXn/kv8/fNX5R/85Pv+Qmu69deZtA17T1v9Hu78QtqGnTm3kuGhlmiSMzRH0ZAvMF15J8VA1VWQ/wDPxL/nJnzD+QVl+XOj6DqB0WPzbrP1TUtdWKOV9O0+FoROYlmR4xKyykqzKeIRqDlRlVel+YPy9/Mvyx5w/K0+U/zF1vVPKd9qbf4htr9LW8YQQWst3DMt4lssscUrxCJ158GMiKtAxVlXhX523k35m/8AOZH5K+SmjEmneTtG1DzPNXf/AEmf1IoyR/kNBAVPbmcVfqYdsVfgH5d8469+dv8Azm15u82Wfk++82Wn5dRXWn2FjY3Vhb/V3tq2PqM+oXNtGazSTyABi/LjQUQkKv0l/N7/AJyR85+QvJPmrzBqv5K67p9pYabdzSXU+s+XXjipGwVmWHVXkYciNkVmPRVJoMVfLf8Az5p8lXmi/lJ5i8y3kRQeYtenktiR/eQWkUcPMe3reqvzU4q/RP8A5yN82jyH+Vn5ieYKgNp2garcR1IFZUtpPTG9er0GKvnz/n2t5SuvJ/8Azjr+XcF5GY5r2C71Lia/3d7dTTQtv/NEyN9OKvuvFWj0xV+Sf5g/8+l/yv8AzH8z+YfNep/mD5kW91vULzUbhY7qwEay3czTOqBrUkKC1FBJoKYqxD/ojH+UP/lw/M//AElad/2R4q90/wCccv8An2h+W/8Azjv5503z5ofmnW9W1DTY7lIIb+e0eBTcwvAzkQ28bcgjsB8VN8VfpRiqnLKkCPJI4REBZmY0AAFSST0AxV8Afl/+e3mr/nLzzTr9t+XGpP5d/Lzy9cPY3PmSKCGe/wBavl+1Fp/1hZIoYEBDNM0TuwZeAQtVFUToUf5zeRv+cgtO8tafHq+sflldaK0t/qWrzw3Qi1BVnYPDMFSRCWEUZiPIEFnCgUIVRf8AzkB/zldqmj+etF/JT8qLK21fz7q3GS6muayWGg2ZAdri8WNgzOIzzWOq7FSa80R1Ug/5yd0Dz7+SP5Va/wDmLo/5sa5deZfLsMN/I12tl+jL2kqLNC9itssSRsrMECESKeP7xjuVX0h/zjH+dDfn/wDlb5S8/wAtkLO41WzL3NuhJRLiF3hm4E78C6ErXfiQDvir4R/5w3/ODzP/AM5pn8x9f1P8w9X8t6rpWqm303Q9Lazji0uxdCbeSWGe2k+suzq6u03JSUICqKAKve/Lnnn8xPyx/wCcdvPnm78zdQlvfNOlw+bJfVmtUtA/1Oe5tbEpCiRqkUqxRulF+JZA9W5VKqN/59w+TE8mf84++QaxBbjVobjV7l6fFLJfTySq7HufTKCvgAO2KvuTFXxNop/6GP8Azcn1w0m8m/lpcS2mmMDWLUfM7IY7u432ZNPjb0UNKes8pVm47Kvz3/598M/5Rf8AOVX5+/liiejY3bahdW6dPhsb8G1FP+Ye8Y1/rir94cVdir8Vf+fzv5jyweUPIn5aacjy33mTVDevHHuTDZARRxkdzLNOpX3jPtir0P8A6GG/Mb/nET8ntB0r/oXjWo7byzpNraXGoTanp01lE0UaiW5lXTprqX0+ZZ22Xbq464qjP+cIvyD8tfmD5o1L/nJTV/zBtPPXmfWJZ1jk06GS2sdJZ41jaAQzUmEscJEaiVU4xn7LEiQqv1bxV+Xn5CXq+eP+cx/+cgNetT6lroOiaNoJkHQTMIHkU07iS3lH+xxV+oeKuxV8T/8AOW3/ADhd5S/5y4uPLb+avNWraUuhJdrbQadNaxoxuzEZHf14ZCTSJAKEDbFXx3/0Rj/KH/y4fmf/AKStO/7I8VXJ/wA+Y/yiLCn5heZyajb61p2//Tnir9gfLmhW3lfSdL0azr9W061t7SHl19OCNY1rSm9FGKpziryz86PzUsfyZ8oav5pvYHu3tkWOzsYj+/v76dhFbWkIAJMk0rKigAnetKA4q/LD/nMn/nHu70L/AJxQ816p5lf695wuNVsPNut3lKn9ITzJbvEhqT6NrbzGCIVoEQUAqRir7g/5wC82N5y/5x8/K29duTQaRFp53r/xz2azH4RDFX2FirsVfz4f8/S9Vuvzm/Pf8qPyk0Sym1mWwijmudOtJY45ZJtQmDyRBpnSNH+rQI4Z2VVV6lgK4q+uvz+/5zf/ADD/ACY0Wwtp/wAmrzyRZ3kkWnReYtbuIL/S9LZloryQaN9aZ+IU8U5LWmwanEqvTP8AnAv/AJxW8n/kxot7580rzdH501rzgguLvzBDxFtLG0jStHbqCxUeoT6hZuTOvxKnHgFX6E4q7FX57f8APxX/AJyCv/yl8hW3lDyozyecvPtwND0eGEVmVLgrFPMvgQHWND1EkisPskhV7x/zid/zj7p//ONH5aeX/JdqsT3kUf1nVbqJafW9QnAaeUkgEgGiJXf00QdsVfSOKvjr/nP38w7j8svyC/MjVrNuNzPp/wCjIWrQqdSkSzZgezKkrMPcDFWef84k+Rf+Va/k1+Wvl5ohFNa6HYPcIBSlzPEJ5/D/AHa7Yq+icVflp5VE/wCY/wDznN5v1Bxys/Ink610+JuoW4vjFMB7Ei4n/wCBxV+iv5kfmBo/5VeV9d83a/P6OnaPaS3dwwoWKxioRASKu7UVBXdiB3xV+ZH51/knrXmH/nGj85/Ofm61B84+b7JfMd9HQ8tPsdOeO6stOFQKLZ28Z5UG8zSsS1eWKvWv+fV/m2PzR/zjr5RhD8pdIuNS06UfytHcvKo/5FyofpxV+ieKvy+/IaSDz/8A85hfn75nib1YvLmj6P5difrxeQRPOo8KS2zj78VfqDirsVfBvmry1+cOseZvPmrfmT5msNM/KvRoL26tdL0QFLzVbOKIy0vrllM0SLGCJVidPUaqj93uyr5x/ITQPzbuvyc/Kjzf/wA4+eYbCGzubWC31jy1rkayWDSwym2uLq2np60J5xu8sSvxckug51V1X6/rWgr1xV+XX/OXUEP5gf8AOSf/ADjF5JduSWF3qfmS4j6gfU1WWBiPeS2IxV+if5i+crb8uvKvmTzTeCtvounXuoSLWnJbaFpSoPieNBir+fb/AJ9l6x5+0W+/Mz83bT8rtV86S+YLo2Yu7C/021Ec4ka8u1Zby5jkbm0sJBRCuxFSdgq9k84+a7z/AJ+K+f7X8pPzC1Vfyvs9AvvrMnlCdJX1zVZUiLCQXEkcdtQRMxRU5sFZn4yLxZVX7ZeTPJ+k/l/oWkeWtBs1s9M0q1hs7SBSSI4YUCItWJYmg3JJJO5JOKvzX/O+4ufzE/5zN/JDyrGvOy8o6HqnmG4/yJLtZYQSP9aK3p/rYq/U7FX5a/n/AGr+ev8AnMb8gNBiHKPy9o+sa7ckb8FkWeNCadjLDGOvf71X6lYq7FXYq7FXYq7FXYq7FXYq7FXYq7FXYq7FXYq7FXYq7FXYq7FXYq7FXYq7FXYq7FXYq7FXYq7FXYq7FXYq7FXYq8a/5yB/NmD8jvIWu+dbn0xFpgtSxlVmQCe4igqVRlY/3mwBxV69FLDfQpLE6SwzIGVlIZHRhUEEVBBB2OKvwe8nflvYflR/z8Ig0vyOFg0zUNPvtR1WzthxitPremzyyRMq7KhuBFKq0AUuigUAxV7P/wA/Y9SvPOtt+UP5N6PNx1Dzn5jhJWvwiKApbqZAP2PUuVbfb92T+zir9E/O/nPQvyT/ACy8xapa3MJsvJujTJwjdWMbWNoDFAwB2dhwAU7/ABLtuMVfnh/z6O/JabRvIeqfmnry+tqnmy/vJbJ5CWeOzVwksm+4eeaNuR6lY4zXc4qwv/nHby+3/OSf/OYH5v8A5jX5eTRvJTw6TZRg/upLi3cQwAkg8lV7aWegO0hQnbYqso/5yvSD88v+ctfyL/LFh6lj5Yhl8x6kKVSob6wsbjwK2iA/5MuKs0/5+rfmnDH+Rdro3l2/jvH866xY6XA1pKsvrwxSNcSem0ZPIF4FRqGnxcT1xV95/kd5TsPyt8h+WPJEFxbtP5a0jT7S8jhdSY5VgBd3UGo9RgzAkfFud8VfmT/z7y1m387+fv8AnIT8+dfnjhttV1xdF067mYAC3WUFIEJ+0xQ2iBRu7cQoqaYqln53Xo/5yD/5zf8Ay8/Lq+lY6J5EtE1Sa2Y/BLeiD9I8uJ2PIfVlP+SGxV9vf852fnvL+Rv5Tear3SWdtdvLCeDTxEpLW/qcYXu3PREh9RaM2zStFGKs6gqpZ/z708kwfll+RX5d6JcSRR6lqWnNr00HNRMyahJ66yMteR4pLGrEjY0U9hir4dsNGP8AzlV/znLrtxdgyeX/AMs7KKDio+GSa0K0ic9ATeTSMR+3HEUOxbFX7hdMVfi1/wA433Fv+cP/ADl9+d35rXt3Gmi+SLdtDtp55AsUcoH1MursQoj4wXDE1p+8B74q9V/5+z+bb9Pyu8v/AJf6MfU1Lzzr9hpsVup+OaKFxMVX5zCAH/Wp3xV+iv5a6Fp3k7y3o3lTTbiOVPLtlY6U6xsCYzbW0QVWA+yShVqHswPfFX5h/wDP2Hy3/h/Tfym/N20qt55N8z2iuVHW3uGWfkSN/hltkA/1zir7r8qX8f5ueerjzLbyLPoHlRZtO0xwtUudWnUC9uY2OzLbxH6sjL+290p+zir6MxV2KvjX/nKf/nCDyV/zl1d+X7rzhruvWQ0OK6jtYdJurWGI/WmjaR3FxaXBLH0kFQQKDpir5O/6Itfkr/1NnnP/ALiOm/8AeLxVtf8Any3+SqkH/FnnPY1/46Om/wDeLxV+sXl7Q7XyxpWmaNYKUtdOtbe0gU0qIoI1jQGgHRVHbFU4xV+I2v37/mZ/z8N0rR9eAay8naUp0qF/sPJ+jPrwkAPVlmuWao/30v8ALir9rb/ULXSoJLq9uYraCMAvLM6xxqCafEzEAbnucVfjX/z+L8zatc6J+Vn5fWUzQ2fmfWpGu2XYObX0Y4UPioa4LkH9pVPbFX66eU/LOkflt5b0nQdMiSz0rRLGC0gVmosVvaxBF5MfBVqzHruTir8jv+cVPLVz/wA5P/8AOTXn/wD5yImtnXyvoLzaL5anJ/d3c0MIsjLHX7SCEySHsHmUAkoQFX3N+e35T+TP+c3fy017y0bk0t7/AFC2s75Vo9lq+lXE1mzgEGqCVHRh+3ExoRUMFXy5/wA+r/zR83ap5e89/lN525San+Weow6YkrMHK28jXES2/MfbEL20gRv99sgGyjFUwtbmPRP+c9bpL2nLV/y7Edjy/mS7V24f7G3l8O+Kv1Hk+w1PA4q/FT/n0doVxaeY/wDnIe+1aNl1ca9bWl16n94jpNfvID7lyeX+qMVevf8AP0DzvqnmDy35W/IzyfF9d8zfmFqNvCbaNgXi0+2lWV5XAPwIZFWrtReCSmvwGir77/I/8qtP/JHyF5V8jaYeUGi2MVsZCKGaanKaUjsZJGZyO1aYq+MP+fkHme/8xeWvKn5I+Wp0HmD8zNWttOC7loNNgkSa6nYLuEBCBj3T1KdDRV+gflHy3aeTdD0bQNPXjaaVZ21jbr4RW0SxIP8AgVGKshxVL9X0/wDS1jeWP1iW2+swyw+vAyrNF6ilecZZWAda1UlSK9QcVfkqf+fLf5Kkk/4s857/APax03/vF4q1/wBEWvyV/wCps85/9xHTf+8Xir6s/wCcWf8AnBjyF/ziPf69qXlHVNav7jWYILeZtXubab044XZwIvq9rb05Fviry+ytKd1X2fir4t/5+H+btS8kf848fmbqelMy3LWNvZclrVYr+8t7OYinSkczb4qlv/Pt7yvp/lb/AJx3/LlNPKt9etZ7+4kWlXuLm4ld+RHdNo/kgHbFX2hJq9qfr0cM6TT2S8p4Y3VpIyyc1DKDVSw3WvXtir8U/wDn0pZTfml5n/On86fMFJtb1bU1slftCszNdzogPRTWFV/lWOgxV9Ef8/QvPt5J+X2lflH5ZtW1DzR+YuoW2nWdlCayi1hlSaaUjsvIIhJooDOxNEOKvqn8kfKOi/8AOM3kP8sPy0ubwG5kRdKgcDa51EWtzqFyR4K3ozMK9PhXrir8pf8AnL7yVqH/ADgd+dflr8//ACI8keg+adSa18x6WjDg8059a4RVIpxuFVpE6+nMlagFVxV+lv8AznlYXGr/APOPf5qxWnLmNFlnPHr6cDpNJ9HBGr7YqyX/AJw01K21X8ivykntePpr5Z0eE8enqW9skMn080avviqV/wDOWP5u6l+X3l3TfLPlKZf8a+drxND8uqSP3M89BNeuCGPpWkZMjHiw5cARRsVYR5U/59//AJZ+VtKs9Ohu/MYMSAzPB5n1W3WadvilmMcN0qK0jku1B1JxV+ZuieUrD/nGH/nPnQdJtZbpdI8wWqR273d3NdzuNQ094V5zXDvI9byGg5MaCnhTFX9B1xcRWcUs88qxRRKzySOwVUVRUsxOwAG5JxVg3kj81/JP5mG7HlDzho+vm04fWRpWpW176PqV4ep9Xkfjy4mlaVoadMVfiF+afqf85Sf855eW/LFQdI8h/VTIV+IMNMQ6lLyHi9zIsB/yQDir9vPzW8x+XvJ/k3zPrPmtohollp13LqAmUOj2wibmhQ/bLj4Qv7RIUbnFX4rf8+RtD1qGz/NHWJIpk0W5m0u3t2YERSXUIuGl4E7FkSROVOnJa4q/a/8AM3z/AKX+VflPzD5v1mUR2OjWU95MagFhEhIRa/tOaKo7sQMVfFv/AD7f/L/VNH/LzVvzB8yWgg178yNXvPMt0KfGttcuTaoT148S0ijsJd964q/QzFXYq/Pb/nIj/n21+XH/ADkx5zuvPHmnzH5mtr+4gtrb0NOvLKK2jjt04KEWaxmcV3Y1c/ETSg2xV4b/ANEWvyV/6mzzn/3EdN/7xeKsv8gf8+jfyf8Ay68zaB5psPMfmu5utFvrXUIIbu/094HltpFlQSLHpyMV5KKgMp9xir9TMVdir85/Meh6d/zmt+aOsaFey3LeQ/y1lFu72d3LaPe+anozFJoGWTjYwnjUMv72Q/aAGKqf5+/84L+R7r8tvPi6Zc+YZb9NE1KWzS58zarcwtdRW7yQh4Zrl0dfUVahlIxV5h/z5u87v5h/JTUtBmer+X9evII1rXjb3UcV0vyrI8uKv1A84+fPLX5d2C6p5q8w6dodi0qwLdanew2cBlcMyoJJ3ReRCkgVqQD4YqivLfm3Q/OWlwa5oGsWeq6ZOJDDe2NzFc20gjZkcpLEzI3FlZTQ7EEHcYq/CX/nCONv+ckf+cv/AM1fzeWP1dK0I3q2c7dQbiunWWx6FrSKUnwpTFX6M/8APx7zDoegf849fmKutzwoL6zjtLOOUrymvJJo/RWNTuzKw57bqqluinFXjX/PoTRNc0f8goZdXEiwX2t6ldaYsgIpZFII6qD+y00crDsa174q/UfFUHqOo22kWlzfXtxHb21tFJNNNK4SOOONSzuzMQAqgEknYDFX5Af84n6ddf8AOY/55eav+citct5B5a8tySaH5Lt5h8DGMFXuQG7hXZzQU9WYgMTFir9i8Vdir85v+frFnNd/845ebXirSC70iWSn8gvIl39qsMVfeHkfWLPzF5c0HVdPCi0vrC0ubfh9n0ZoldONKbcSKYqygmm+Kvy5/wCfe14/n7z1/wA5LfmMTzh1fzg2mWsnXlb6YJBEK+0UseKs9/Nu2s/+cufzRP5RetM/k7yTHDqnmyW0nkgNzq0yn9HaeJomVl9EVuJOJPxKiniy4qyzzP8A84I/l1qejarZrd+ZXNxaXEIWTzXq8qHnGy0ZHuirKa7qwII2Ipir4l/58peYZE8qfmf5TlY10zWrW84V6NdwNAx+n6oMVftsx4gnwBxV+Xn/AD6/0+PXdE/N38x2HKbzj531e5WT+e2hcvHv3/eTS4q/UXFXYqoXVrDfQzW1zCk0MyNHJHIoZHRhRlZTUEEGhB64qlvl/wAu6V5S0+20nQ9MttN0+1XhBaWcCW9vEtSaJHGFVRUk0AxVOcVflv5Ts3/MP/nOXzpqko52/kbydY6fCevp3F+YpgPaqTz4qmv/AD9k/M+T8vvyG1PTLaf0rrzRfWekrxaj+jU3M9PZkhKN7PTvir2n/nAD8qo/yh/IjyDpRWl1fWQ1e8YihM+ok3ND/qI6Rj2QYq/JX/nO/l+YP/OZn5b6R5CUza7YL5dt717QVeK8hvprpnkKf75tnjZ2P2VWh2XFX9Ga7AV8MVfl3/zj/fR/mH/zmD/zkD5khPqQeW9J0jy3G3XizFGmX2/fWsm3tir9QZpkt43llcIiKWZmIAVQKkknoAMVfl9/zhqjfnx+cf5xfn+8jy6RLOvlXyu5VhHJYWPD1po+QB4yMiMP8ppQd9gq/UXFXYq7FXYq7FXYq7FXYq7FXYq7FXYq7FXYq7FXYq7FXYq7FXYq7FXYq7FXYq7FXYq7FXYq7FXYq7FXYq7FXYq7FXg3/OR35DWH/OSXk9/I2satdafpN3eWc+ofUwvr3EFrIJhCjvVY6yKjcij/AGacd6hV5R5Y/wCcdfzP/LDQovKvkb87HTR7eJbeyHmPy9FrV9YwoAqJBcxXdiCqAAKssUoUUAooAxVkv/OPX/OJ+gfkTqOv+arrVrvzP5y8wMW1XzFqax/WpVPEmGFEHGGGqKeAJ+yoLFUQKqxT/nIf/nDWD89/P/kX8xLbztqHlvVPKyNFE1lbwTl1MhkDR/WAyRyAsfiKSAinw/CMVehfmx/zjJoH5nfldqH5Uw6hdaPpd+Y2uLm2KyXUri5W7lkleUN6kk8oLyu1WdmZjucVeo/lx+W+n/lb5L0HyToUjx2mjadDp9vMwUyH0ownquAApd2q7bULE7UxV5T/AM4uf84w6J/zi15e1fQtI1W71aTVdSm1O7vb4R/WJZpURKMY1UEDjUe7HxxV5j5k/wCcHtM8y/nNqv5vP511a0Oq2MOn32lWYjiSe2RI43hNzvKkUoiXmI+En2uMi1xVOP8AnJ3/AJw20r/nImP8vPqXmK48qy+SLwXOmGwtYpYkQCHiiwuVjUx+hH6ZoVUAjgQcVfQ3lv8ALHT/ACz5cvvL8N3dTyajHN9f1KeXnfXlzPEIpLmWQAD1CAAvFQkaqiRqqIqhV8zf84tf84T2X/ONljFpk3nO/wDMdhZXtxqGm2NxbQWtra3U6hGuGWIM80wQcVaSRkTcxxoxriqWfnx/zgxa/mr+ZOj/AJt+VPPeo+SfNljClvJe2FvFcLOiK8YLJIyfEY3MbVLK0dFZDTFU5/Mj/nCnTvzM/LjzH5K1fznqt3rPmA2B1DzNerFcX0y2NyLqGD0kEUaWyPUrDHwVWYvu5Ziq92/Jj8l7H8ndEh05dVvNa1E21ta3OragytdTxWqlIIgECpHDCrERxoAoqzHk7u7KsB/5xt/5xZ0b/nHG488alZ61ea1qnnDUzqmp318sSyvLykfiPSVRxDzSN82OKvqMioI8cVfAf5Ef84DaJ+SfmHzLqj+b9R1rStX1ZdZXRLmGFLRbyKUy28tww5PcPAx5R1KoHCyFC6qwVZX/AM5Of84dx/8AOR3mn8vfNied9Q8u3nk2eSe0+qW0FwC7yQy80E9VSQNCnxFZFIAqhpir6p8neUNO8i6VBpOnBzGjPJLNM/qT3NxKxeWeaQ7vLK5LOx6sew2xV8uf85meQIP+cgfLNr+TlrJTUPMF5p93PMAT+jtNsbqOe4u3IUgFghgiU09SWQU+FJGRV9QeRfJOj/lv5e0fyvoFoLXTNKtorW1iBJKxxigLE7szdWY7sxJO5xVlmKuxV2KuxV2KuxV2Kviz/nIH/nC/Sfzl84+XvzK0HzTf+TvOuhoIrbWNOiimEkY5cVnhlAEnEO6/aHJGZHDLQBV6X5U/JHWje2OpfmF5+vfOE1g8U1natZ22mabDcxMHS4NraissqMAUM0kixsA8aK4Vgq3/AM5Jf841eVv+cnPLdvoPmJ57SexuY73TdSs2VbqyuY+jxl1YEMNmUihFDswVgqleufkX5o/MLy/B5U89fmLNqOkFEi1BdL01dJutVhUcWhu51nnpHKP70W6W5apAKqeOKvefKvlLR/I2j2GgeX9Ng03TLCIQWtrbRiOKKMdlUe9ST1JJJ3OKvlz8p/8AnGLzJ+R8HmSDyp+ZUsi+YNRu9Wu49W0pL2CC9u3Z5ZLRIri3aLkSKq7yqSoNK8qqvRvyA/5x30H/AJx/sNbTT7y51TVvMF/Lqmt6xfFPrWoXkrMxdhEqIiKWPBFUBanqSTir5S/5zw8tX/5deYvyx/5yK0PTjdyeQb14Nfji/vpdCvv3UrDx9Hm9PD1WY/CpxV+iPlrzHpvnDSdO1zRryO80/UbeK6tbiJg0csMqh0ZSOxBxV87W3/ONreS/Pfmjz9+XfmCPy/d+ao4f07YXOn/X7C7uYCxS7SNbi2eKf42DESFG5MSnI8sVZB+V/wDzjpof5feYdW88alfXPmPzjqqejda9qQj9dLYU42trFEqx29utNkRat+2z7UVehfmn+aXlv8mvLOqebfNeopZabp8Zd3YjnI/7EUS1q8kh+FFG7MaYq+Pv+cYPys8x/mD5y1j/AJyG/MvTnsda1iD6j5Y0WdRz0PQwSU5giq3NwCWk7qHYbcyiqv0DxV2KuxV2KuxV2KuxViXnzyNov5l+XtY8reYrNbzS9WtpLW7gYkc45BQ0I3Vh1VhupAI3GKvi38of+cMfOH5FabL5V8m/nnq9n5U9WWS306XR9Oubq09Zy8ggu50YLyZiT+5K8iWChiSVX2b5H8iaV+X+mnTtMWV/Vka4urm5lae6vLlwqvPcTOS0kjBQCTsFCooVFVQq+avIX/OJr/kr5t82+Y/yx82DRLDzTP8AW9R0K90xb/T0uqk+taiOe1khJq3w83ShpxoqBVXpfkH/AJx60Hyj5n1Dz7q1zP5i84XyGB9a1AJ6ltaVJW0s4o1WO2gWp2Qc2qTJI5OKpP8A85A/846/8r4vfJN7/i7UPL0nlTUJNVtJNNSIytehVWF2aYMvBBzDIUPMPQkCoZVIfPf/ADjFP+c+teVL/wDMrzQus6X5avBqNno1lpi2FncXqArHNeGSe6eXgCeKK0abnkrAkYq+l/Mvl+y82aPqmh6jEJbPUrW4s7iNujw3EbROp9irEYq/O/8A59+eY738s4/Nf/OOvmyVIte8iXtxJphY8TqOh3kpnhuYg32grSENT7IZFPxVxV6f5g/5w9vvMX5uaT+clz+ZmqNrOjCeLTLR7K0bT7S2njlieBYuAYhllfkxf1CTXlsKKvtfjJ6fHmPU405cduVOtK+PauKvzl/NX/n3on5w/mHpf5n69+aWsrr+kmzOnPa2djFDaLZytPCscZiaoWRmb4yxJY1JG2KvsX8y9LtZPy480aZ5s80Lp9rPo99aahrfGO19CKeF4nuAGJRGVWqO3Lt2xV+dv/Psz/nH268g/l7+YGtaHf3emRebNZl/QGoXdojXbaLZFo7O7aGVVTlMHkcArxoVajKRirLfI/8Az7VX8uPPF/8AmP5f/OTzJa+Zr97uS7v2ttOnadrt+c3qRzW7xsHbehXY0pSgxV6h54/5weP5yta2/wCaX5s+avNWkwzRzto/Ox0ywnaPdRNHp9rCWA8QQw/ZYHfFX2B5G8h+Xfyx0Ox8ueVtIt9J0mxQrBa2yBI0BJZj4lmJJZiSzEksSTir87/zMvJv+c8fPMP5deXpC/5XeU9QiuPNmrxn9zrOo2xEkWlWrq37yNCQ0zjYEAggiMyKv02s7ODTreC1tYUhggRIooo1CoiIAqqqjYAAUAGKonFXYq7FXYq7FXYqwv8AMHy3qnm7Qr/SNH8xXHl+5u0MY1G0iiluIVYUYxCYMivToxUleo3oQq8H/wCcV/8AnF6H/nFfRb/y5pPmq71jS7y7mv2S/t4ROt1MsaO4miCkgiMVDA77gjFXtf5l+UdX88aJd6NpPmWXQDdxywzXdvawzziORSpEfrhkU0J3KN7UxV8n/wDOKn/ODdr/AM4j3uqSeVvPmpXmn6q0LX2n39ravFK8IYI6PGiPG4DsKhuJr8Smi0Vemf8AOWX/ADixpH/OWvlfTfKuua5e6Va2WoJqAeyWJnkkSKWJVb1VYUAkJ6Yqmuk/849t5P8Ayq0j8qvKHmu80K1sLH9HnUobe3lvZI2VhKy+qpjSSRmZiwSqk/DQ74q+YfyO/wCfdU3/ADjhNq0/5e/nL5i0k6qIheqbLS7qOb0eRjJS6tZVDLzajAA7nemKs61f/nAfy/8AmTrmna5+bXnnzF+YP6PZntdO1S4t7bS43elW+qWMEC1NBWhAagDBhtir7n03TbTRrS1sLC2jtrW1ijhgghQJHFFGoVERVACqoAAA2AxVG4q8f/Pn8pR+efkfW/I0uu3WjW2sRpBdXVkqNObfmGeJfUBUCQDixofgLDvXFU1/J78qdC/JHydoHkny3AYtO0i2SCMtT1JX+1JNIRQGSVyzuQKcmNABQYq9LxV2KvMvzn/LSx/OTyL5r8k6iF9DW9PubPkwr6UjofSlA8Y5Arr7qMVfKP8Az74/Me7v/Icn5W+Z4vqfm/8ALWX/AA/qlmzhmNvBVbS4jp9qJ4gFVhsxQkfCy4q+xfzL81QeRfKPmnzJcmkOkaXqF/JvT4LaB5Tv8lxV8Df8+4PI+oJ/zjVpT6fqb6Rqfma51fUnv0gjmkiknu5IhKiSgoWEcS8eQYVoSCNsVe6/840/84qyf8413HmN7Pz1qOvReYb6TU9RGqwQPPLeyLRpvXjCvVqAsG5A9qEk4q+k/N+k6tremzWeja22jXMmwvEto7mSNSCPgSX4OVaEFlYbfZOKvhj/AJxs/wCff9p/zi75m1HzL5V/MXV521RVj1Kzvba1kt7tVcyAsERGV1JbiysCvJhuCQVX09/zkv5yk/L78p/zG8xQPwn0/QdTlgatOM/1d1iP0OVxV4l/z7m8iy+QP+cevy5tLgUnv7OTVnNKVXU5pLuL7opEH0Yq+3cVdirsVdirRNBXFX5a/wDPvJp/PXnj/nJP8y5jzi1jzhLpdo3/ABRpvqFBXvSKaIfRir0z/nKb/nA61/5y11TT7zzZ+YWrW9lpnrfo/TrK3tUt7f1uPqMSyM7u3BQWYnp8IG+Ksusf+cXvPthoVl5ah/5yE80xadaW8drEILDRorlYY1CKoulsfWqFFOXPl4muKsn/AOcf/wDnDb8tv+cc7i71by/p89/5gvvVN5r+rT/W9TuDM/OSspVVQM27BFXlsX5HfFX1Q7BFZiaAAkn5Yq/MH/n2DDD5l0D82fzGCfvfN/nbV7pZP5rWIgxCvejSyb++Ks7/AOcqPzJ1781dUP8Azj9+Vdyf07q0aDzRrEXxQeXtGl/vRI4BAublKpHHUNxYn4aqwVfY35Wflron5PeU9B8m+XLcw6bo9rHbQKxBduO7yOQAC8jlnc0FWYnFWf4q7FXYq7FXYq7FXYq7FXYq7FXYq7FXYq7FXYq7FXYq7FXYq7FXYq7FXYq7FXYq7FXYq7FXYq7FXYq7FXYq7FXYq7FXYq7FXYq7FXYq7FXYq7FXYq7FXYq7FXYq7FXYq7FXYq+bP+coP+cfbv8A5yL8tWGhWHnnVfKFzZahBfx32ls3JjErr6ciLJEWWjkrRxxcK29KFV6J+V35V6f+VunyW8F/fatqF16bX+r6rcG61C+kjXipllIFFQVCRqFjSp4qCzEqvT8VdirsVdirsVdirsVdirsVdirsVdirsVdirsVQl/YW2qW1xZ3lvHcW9xG8U0MqB45I3BVkdWBDKwJBBFCMVSryt5T0TyPplto3l3SLTSdOtuQhs7G3jtreLkxZuEcSqq1JJNB1NcVZBirsVYp5m8ieW/Or6dJ5g0Cw1VtOnW6sje2kVwba4X7MsXqq3Bx2ZaEeOKsrxV2KuxV2KuxV2KuxV2KuxV2KuxV2KuxV2KuxV2KsVvPI3lzUNcsfM91oNjNrdjC9va6nJaRNeQQycuccc5X1ERuRqoYA1PjirKsVdirsVQeoafa6tbT2V9bR3NtOjRywzIskciMKFXVgQwI6gjFUTHGkKLHGoVFAVVUUAA2AAHYYqvxV2KoS/sLbVba4sr23juLe4jaKaGVA8ckbjiysrVBBBoQeuKpX5Y8qaL5J0220by9pFppWnWwIgs7G3jtreIMSx4RxKqrUkk0HXFU/xV2KuxV2KuxV2KuxV2KuxV2KuxV2KuxV2KuxV2KuxV2KuxV2KuxV2KsUi8h+W4Nfm81xaBYJrs0AtZdUW0iF9JbggiJrgL6hQUFFLU2G2KsR/PX8sZfzn8geavI8WsHSDrtk9k16tv8AWDDHIRz/AHXqRcuSgrTmOv0YqmH5O/ltafk95H8qeSbK4+sQ6DptpYC4MYiM7QRqjzFAzcTIwLkcjQmlTir0nFXYq7FXhv8Azkj+Tcv/ADkD+XPmT8v4tdOifppLeJ75bX600ccVxFO6iL1Ya8xHwPxigYnfFXpPkfyrB5G8uaB5ctZPUh0iws7CNyvHklrCkKnjU0qF6VOKspxV2KuxV2KqU6NJFIiMFZlYKxFQCRsSKitPCoxV84/84q/847Qf84xeRx5Pj1ttamkv73Ubm/a1Fq0010/IkxCWWnFQq15mtK7dMVfSeKuxV2Ksc846JP5m0HWtHtb42E+oWV1axXYj9Q27zxNGsoTknIoW5U5CtKVGKvH/APnF38gbT/nGX8udF/L+11VtV/R73kst81uLZriS5uJJyxiEknHiHCD4zsoOKvV/LHkPy35KfUZPL+gWGlPqU7XV61laRW7XNw3WWYxKpdz3ZqnFWWYq7FXYq7FXYq7FXYq7FXYq7FXYq7FXYq7FXYq7FXYq7FXYq7FXYq7FXYq7FXYq7FXYq7FXYq7FXYq7FXYq7FXYq7FXYq7FXYq7FXYq7FXYq7FXYq7FXYq7FXYq7FXYq7FXYq7FXYq7FXYq7FXYq7FXYq7FXYq7FXYq7FXYq7FXYq7FXYq7FXYq7FXYq7FXYq7FXYq7FXYq7FXYq7FXYq7FXYq7FXYq7FXYq7FXYq7FXYq7FXYq7FXYq7FXYq7FXYq7FXYq7FXYq7FXYq7FXYq7FXYq7FXYq7FXYq7FXYq7FXYq7FXYq7FXYq7FXYq7FXYq7FXYq7FXYq7FXYq7FXYq7FXYq7FXYq7FXYq7FXYq7FXYq7FXYq7FXYq7FXYq7FXYq7FXYq7FXYq7FXYq7FXYq//Z)\n",
        "\n",
        "Here, A and B are two vectors, A.B is the dot product of two vectors, and |A| and |B| are the magnitude of two vectors.\n",
        "\n",
        "\t\t\t\t\t\t"
      ]
    },
    {
      "cell_type": "markdown",
      "metadata": {
        "id": "JdUslwPvYiI5"
      },
      "source": [
        "**Jaccard similarity:** This is another technique that's used to calculate the similarity between the two texts, but it only works on BoW vectors. The Jaccard similarity is calculated as the ratio of the number of terms that are common between two text documents to the total number of unique terms present in those texts.Consider the following example. Suppose there are two texts:\n",
        "\n",
        "Consider the following example. Suppose there are two texts:\n",
        "\n",
        "Text 1: I like detective Byomkesh Bakshi.\n",
        "\n",
        "Text 2: Byomkesh Bakshi is not a detective; he is a truth seeker.\n",
        "\n",
        "The common terms are \"Byomkesh,\" \"Bakshi,\" and \"detective.\"\n",
        "\n",
        "The number of common terms in the texts is three.\n",
        "\n",
        "The unique terms present in the texts are \"I,\" \"like,\" \"is,\" \"not,\" \"a,\" \"he,\" \"is,\" \"truth,\" and \"seeker.\" So, the number of unique terms is nine.\n",
        "\n",
        "Therefore, the Jaccard similarity is 3/9 = 0.3."
      ]
    },
    {
      "cell_type": "code",
      "metadata": {
        "id": "PQ-2w3QnYaNQ"
      },
      "source": [
        "from nltk import word_tokenize\n",
        "from nltk.stem import WordNetLemmatizer\n",
        "from sklearn.feature_extraction.text import TfidfVectorizer\n",
        "from sklearn.metrics.pairwise import cosine_similarity\n",
        "lemmatizer = WordNetLemmatizer()"
      ],
      "execution_count": 8,
      "outputs": []
    },
    {
      "cell_type": "markdown",
      "metadata": {
        "id": "8N5fO4IicPpi"
      },
      "source": [
        "Create a function to extract the Jaccard similarity between a pair of sentences by adding the following code"
      ]
    },
    {
      "cell_type": "code",
      "metadata": {
        "id": "mXqpmztnYaNX"
      },
      "source": [
        "def extract_text_similarity_jaccard(text1, text2):\n",
        "    \"\"\"\n",
        "    This method will return Jaccard similarity between two texts\n",
        "    after lemmatizing them.\n",
        "    :param text1: text1\n",
        "    :param text2: text2\n",
        "    :return: similarity measure\n",
        "    \"\"\"\n",
        "    lemmatizer = WordNetLemmatizer()\n",
        "    words_text1 = [lemmatizer.lemmatize(word.lower()) for word in word_tokenize(text1)]\n",
        "    words_text2 = [lemmatizer.lemmatize(word.lower()) for word in word_tokenize(text2)]\n",
        "    nr = len(set(words_text1).intersection(set(words_text2)))\n",
        "    dr = len(set(words_text1).union(set(words_text2)))\n",
        "    jaccard_sim = nr / dr\n",
        "    return jaccard_sim\n"
      ],
      "execution_count": 9,
      "outputs": []
    },
    {
      "cell_type": "code",
      "metadata": {
        "id": "HPC3FkgUYaNj"
      },
      "source": [
        "pair1 = [\"What you do defines you\", \"Your deeds define you\"]\n",
        "pair2 = [\"Once upon a time there lived a king.\", \"Who is your queen?\"]\n",
        "pair3 = [\"He is desperate\", \"Is he not desperate?\"]"
      ],
      "execution_count": 10,
      "outputs": []
    },
    {
      "cell_type": "code",
      "metadata": {
        "id": "z56MMY-8af5u",
        "outputId": "ead2cf7b-45eb-4789-dfb2-97ccc85732e1",
        "colab": {
          "base_uri": "https://localhost:8080/",
          "height": 68
        }
      },
      "source": [
        "import nltk\n",
        "nltk.download('punkt')"
      ],
      "execution_count": 12,
      "outputs": [
        {
          "output_type": "stream",
          "text": [
            "[nltk_data] Downloading package punkt to /root/nltk_data...\n",
            "[nltk_data]   Unzipping tokenizers/punkt.zip.\n"
          ],
          "name": "stdout"
        },
        {
          "output_type": "execute_result",
          "data": {
            "text/plain": [
              "True"
            ]
          },
          "metadata": {
            "tags": []
          },
          "execution_count": 12
        }
      ]
    },
    {
      "cell_type": "code",
      "metadata": {
        "id": "M3RXVLTDaqfx",
        "outputId": "fab8ceb5-39d9-4201-a246-5ab256f9b92f",
        "colab": {
          "base_uri": "https://localhost:8080/",
          "height": 68
        }
      },
      "source": [
        "nltk.download('wordnet')"
      ],
      "execution_count": 14,
      "outputs": [
        {
          "output_type": "stream",
          "text": [
            "[nltk_data] Downloading package wordnet to /root/nltk_data...\n",
            "[nltk_data]   Unzipping corpora/wordnet.zip.\n"
          ],
          "name": "stdout"
        },
        {
          "output_type": "execute_result",
          "data": {
            "text/plain": [
              "True"
            ]
          },
          "metadata": {
            "tags": []
          },
          "execution_count": 14
        }
      ]
    },
    {
      "cell_type": "markdown",
      "metadata": {
        "id": "lM8TpdKDcHc1"
      },
      "source": [
        "To check the Jaccard similarity between the statements in pair1, write the following code:"
      ]
    },
    {
      "cell_type": "code",
      "metadata": {
        "id": "M-ZbWr6zYaNv",
        "outputId": "10627dcd-bf41-4f39-b17d-2964a3a35c05",
        "colab": {
          "base_uri": "https://localhost:8080/",
          "height": 34
        }
      },
      "source": [
        "extract_text_similarity_jaccard(pair1[0],pair1[1])"
      ],
      "execution_count": 15,
      "outputs": [
        {
          "output_type": "execute_result",
          "data": {
            "text/plain": [
              "0.14285714285714285"
            ]
          },
          "metadata": {
            "tags": []
          },
          "execution_count": 15
        }
      ]
    },
    {
      "cell_type": "code",
      "metadata": {
        "id": "VGCRpo_yYaN-",
        "outputId": "6e1584ed-b2dd-4dcc-ff52-f682774bdd2d",
        "colab": {
          "base_uri": "https://localhost:8080/",
          "height": 34
        }
      },
      "source": [
        "extract_text_similarity_jaccard(pair2[0],pair2[1])"
      ],
      "execution_count": 16,
      "outputs": [
        {
          "output_type": "execute_result",
          "data": {
            "text/plain": [
              "0.0"
            ]
          },
          "metadata": {
            "tags": []
          },
          "execution_count": 16
        }
      ]
    },
    {
      "cell_type": "code",
      "metadata": {
        "id": "0etw1WfyYaOC",
        "outputId": "c220823d-0c07-420f-b709-aafc51d452ff",
        "colab": {
          "base_uri": "https://localhost:8080/",
          "height": 34
        }
      },
      "source": [
        "extract_text_similarity_jaccard(pair3[0],pair3[1])"
      ],
      "execution_count": 17,
      "outputs": [
        {
          "output_type": "execute_result",
          "data": {
            "text/plain": [
              "0.6"
            ]
          },
          "metadata": {
            "tags": []
          },
          "execution_count": 17
        }
      ]
    },
    {
      "cell_type": "code",
      "metadata": {
        "id": "zKtp_r-VYaOI"
      },
      "source": [
        "def get_tf_idf_vectors(corpus):\n",
        "    tfidf_vectorizer = TfidfVectorizer()\n",
        "    tfidf_results = tfidf_vectorizer.fit_transform(corpus).todense()\n",
        "    return tfidf_results"
      ],
      "execution_count": 18,
      "outputs": []
    },
    {
      "cell_type": "code",
      "metadata": {
        "id": "IQlQi3aJYaOP"
      },
      "source": [
        "corpus = [pair1[0], pair1[1], pair2[0], pair2[1], pair3[0], pair3[1]]\n",
        "tf_idf_vectors = get_tf_idf_vectors(corpus)\n"
      ],
      "execution_count": 19,
      "outputs": []
    },
    {
      "cell_type": "code",
      "metadata": {
        "id": "2pKZl6jjYaOU",
        "outputId": "2aa9a6d9-43bf-4756-d1ae-665578458ac8",
        "colab": {
          "base_uri": "https://localhost:8080/",
          "height": 34
        }
      },
      "source": [
        "cosine_similarity(tf_idf_vectors[0],tf_idf_vectors[1])"
      ],
      "execution_count": 20,
      "outputs": [
        {
          "output_type": "execute_result",
          "data": {
            "text/plain": [
              "array([[0.3082764]])"
            ]
          },
          "metadata": {
            "tags": []
          },
          "execution_count": 20
        }
      ]
    },
    {
      "cell_type": "code",
      "metadata": {
        "id": "uxFrPf0iYaOY",
        "outputId": "43e99038-86be-4989-c281-5568865c5fad",
        "colab": {
          "base_uri": "https://localhost:8080/",
          "height": 34
        }
      },
      "source": [
        "cosine_similarity(tf_idf_vectors[2],tf_idf_vectors[3])"
      ],
      "execution_count": 21,
      "outputs": [
        {
          "output_type": "execute_result",
          "data": {
            "text/plain": [
              "array([[0.]])"
            ]
          },
          "metadata": {
            "tags": []
          },
          "execution_count": 21
        }
      ]
    },
    {
      "cell_type": "code",
      "metadata": {
        "id": "FvnXuwihYaOe",
        "outputId": "725068f9-e066-4342-f421-53da3735f925",
        "colab": {
          "base_uri": "https://localhost:8080/",
          "height": 34
        }
      },
      "source": [
        "cosine_similarity(tf_idf_vectors[4],tf_idf_vectors[5])"
      ],
      "execution_count": 22,
      "outputs": [
        {
          "output_type": "execute_result",
          "data": {
            "text/plain": [
              "array([[0.80368547]])"
            ]
          },
          "metadata": {
            "tags": []
          },
          "execution_count": 22
        }
      ]
    },
    {
      "cell_type": "markdown",
      "metadata": {
        "id": "kcaAaCoubIUc"
      },
      "source": [
        "So, in this exercise, we learned how to check the similarity between texts. As you can see, the texts \"He is desperate\" and \"Is he not desperate?\" returned similarity results of 0.80 (meaning they are highly similar), whereas sentences such as \"Once upon a time there lived a king.\" and \"Who is your queen?\" returned zero as their similarity measure."
      ]
    }
  ]
}