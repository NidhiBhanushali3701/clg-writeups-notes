{
  "nbformat": 4,
  "nbformat_minor": 0,
  "metadata": {
    "kernelspec": {
      "display_name": "Python 3",
      "language": "python",
      "name": "python3"
    },
    "language_info": {
      "codemirror_mode": {
        "name": "ipython",
        "version": 3
      },
      "file_extension": ".py",
      "mimetype": "text/x-python",
      "name": "python",
      "nbconvert_exporter": "python",
      "pygments_lexer": "ipython3",
      "version": "3.6.7"
    },
    "colab": {
      "name": "04_Stop_Words.ipynb",
      "provenance": []
    }
  },
  "cells": [
    {
      "cell_type": "markdown",
      "metadata": {
        "id": "UEuaaul2qujT"
      },
      "source": [
        "# Stop Words\n",
        "Words like \"a\" and \"the\" appear so frequently that they don't require tagging as thoroughly as nouns, verbs and modifiers. We call these *stop words*, and they can be filtered from the text to be processed. spaCy holds a built-in list of some 305 English stop words."
      ]
    },
    {
      "cell_type": "code",
      "metadata": {
        "id": "V9EUONSdqujU"
      },
      "source": [
        "# Perform standard imports:\n",
        "import spacy\n",
        "nlp = spacy.load('en_core_web_sm')"
      ],
      "execution_count": 1,
      "outputs": []
    },
    {
      "cell_type": "code",
      "metadata": {
        "id": "yImSiQebqujb",
        "colab": {
          "base_uri": "https://localhost:8080/"
        },
        "outputId": "579acea4-26e2-44dc-ebb4-cc548eadfd6c"
      },
      "source": [
        "# Print the set of spaCy's default stop words (remember that sets are unordered):\n",
        "print(nlp.Defaults.stop_words)"
      ],
      "execution_count": 2,
      "outputs": [
        {
          "output_type": "stream",
          "name": "stdout",
          "text": [
            "{'once', 'regarding', 'some', 'at', 'third', 'toward', 'it', 'else', 'me', 'mine', 'throughout', 'am', 'besides', 'here', 'itself', 'otherwise', 'via', 'into', 'few', 'under', 'same', 'ca', 'call', 'n’t', 'then', 'least', 'part', 'whenever', 'off', 'move', 'anyway', 'per', 'why', 'back', 'being', 'an', 'side', 'every', 'but', 'fifteen', 'please', 'even', 'nowhere', 'hundred', 'hereafter', 'his', 'in', 'no', 'whatever', 'together', 'becomes', 'meanwhile', 'several', 'if', 'nor', 'many', 'somehow', 'all', 'next', 'wherever', 'anyhow', 'herein', 'during', 'five', 'each', 'three', 'either', 'everything', 'rather', 'latter', 'n‘t', 'those', 'towards', 'someone', 'thence', \"n't\", 'six', 'eight', 'everyone', 'was', 'over', 'a', 'might', 'yours', 'unless', 'less', \"'s\", 'until', 'your', 'elsewhere', 'out', 'onto', 'are', 'again', 'other', 'too', 'noone', 'only', 'say', 'become', 'of', 'what', 'thereby', 'quite', 'anything', 'fifty', 'their', 'were', '’ve', '’ll', 'sometimes', \"'d\", 'one', 'beside', 'seem', \"'ll\", 'ours', 'thereupon', 'already', 'there', 'bottom', 'alone', 'would', 'before', 'also', 'various', 'been', 'not', '‘ve', 'these', 'using', 'go', 'front', 'see', 'now', 'within', 'themselves', 'amount', 'because', 'hereupon', 'whereby', 'formerly', 'hence', 'twelve', 'above', 'sixty', 'forty', 'her', 'another', 'nobody', 'made', 'can', 'whether', 're', 'about', '‘s', 'very', 'below', 'up', 'is', 'whither', 'do', '‘d', 'our', 'further', '’m', 'although', 'whereas', 'you', 'latterly', 'should', 'without', 'around', 'name', '‘re', 'nine', 'by', 'due', 'thru', 'perhaps', 'yet', 'may', 'behind', \"'re\", 'therefore', 'ever', 'serious', 'something', 'the', 'that', 'him', \"'m\", 'how', 'among', 'mostly', 'top', 'twenty', 'nevertheless', 'has', 'have', 'this', 'they', 'than', 'with', 'yourselves', '‘m', 'he', 'put', 'since', 'so', 'for', 'hers', 'herself', 'last', 'himself', 'own', 'whereafter', 'from', 'therein', 'show', 'became', 'whole', 'make', 'down', 'though', 'get', 'whom', 'upon', 'afterwards', 'still', 'doing', 'four', 'most', 'against', 'often', 'give', 'where', 'we', 'its', 'beforehand', 'much', 'wherein', 'or', 'be', 'yourself', 'thus', '’s', 'former', 'moreover', 'such', 'anywhere', 'whereupon', 'did', 'amongst', 'full', 'more', 'somewhere', 'done', 'whoever', 'seemed', 'ten', 'enough', 'namely', 'while', 'which', 'anyone', 'and', 'between', 'through', 'ourselves', 'beyond', 'whose', 'two', 'hereby', 'neither', 'take', \"'ve\", 'i', 'none', 'does', 'everywhere', 'seems', 'empty', 'others', '‘ll', 'to', 'whence', 'my', 'however', 'thereafter', 'eleven', 'sometime', '’re', 'will', 'cannot', '’d', 'always', 'never', 'them', 'must', 'indeed', 'after', 'really', 'could', 'on', 'first', 'had', 'used', 'as', 'along', 'who', 'nothing', 'seeming', 'both', 'across', 'she', 'myself', 'just', 'becoming', 'keep', 'any', 'except', 'almost', 'when', 'well', 'us'}\n"
          ]
        }
      ]
    },
    {
      "cell_type": "code",
      "metadata": {
        "id": "4pD1YDxEqujk",
        "colab": {
          "base_uri": "https://localhost:8080/"
        },
        "outputId": "6722d1cb-1568-4e3e-d7bc-9ec3d5e502fa"
      },
      "source": [
        "len(nlp.Defaults.stop_words)"
      ],
      "execution_count": 3,
      "outputs": [
        {
          "output_type": "execute_result",
          "data": {
            "text/plain": [
              "326"
            ]
          },
          "metadata": {},
          "execution_count": 3
        }
      ]
    },
    {
      "cell_type": "markdown",
      "metadata": {
        "id": "bKZ7cZ9equjr"
      },
      "source": [
        "## To see if a word is a stop word"
      ]
    },
    {
      "cell_type": "code",
      "metadata": {
        "id": "3Nq_y4brqujs",
        "colab": {
          "base_uri": "https://localhost:8080/"
        },
        "outputId": "7722791f-7a40-4242-a4d6-a04d3a976f66"
      },
      "source": [
        "nlp.vocab['myself'].is_stop"
      ],
      "execution_count": 4,
      "outputs": [
        {
          "output_type": "execute_result",
          "data": {
            "text/plain": [
              "True"
            ]
          },
          "metadata": {},
          "execution_count": 4
        }
      ]
    },
    {
      "cell_type": "code",
      "metadata": {
        "id": "yC4aPtZHqujx",
        "colab": {
          "base_uri": "https://localhost:8080/"
        },
        "outputId": "8ebd17bc-5bf2-4882-a0c6-cc13faf736c3"
      },
      "source": [
        "nlp.vocab['mystery'].is_stop"
      ],
      "execution_count": 5,
      "outputs": [
        {
          "output_type": "execute_result",
          "data": {
            "text/plain": [
              "False"
            ]
          },
          "metadata": {},
          "execution_count": 5
        }
      ]
    },
    {
      "cell_type": "markdown",
      "metadata": {
        "id": "2FUYHmkgquj2"
      },
      "source": [
        "## To add a stop word\n",
        "There may be times when you wish to add a stop word to the default set. Perhaps you decide that `'btw'` (common shorthand for \"by the way\") should be considered a stop word."
      ]
    },
    {
      "cell_type": "code",
      "metadata": {
        "id": "Z9qYEHH3quj3"
      },
      "source": [
        "# Add the word to the set of stop words. Use lowercase!\n",
        "nlp.Defaults.stop_words.add('btw')\n",
        "\n",
        "# Set the stop_word tag on the lexeme\n",
        "nlp.vocab['btw'].is_stop = True"
      ],
      "execution_count": 6,
      "outputs": []
    },
    {
      "cell_type": "code",
      "metadata": {
        "id": "aGJTcmiLqukC",
        "colab": {
          "base_uri": "https://localhost:8080/"
        },
        "outputId": "43dbcfe5-f708-46eb-86d6-20a75209fbf8"
      },
      "source": [
        "len(nlp.Defaults.stop_words)"
      ],
      "execution_count": 7,
      "outputs": [
        {
          "output_type": "execute_result",
          "data": {
            "text/plain": [
              "327"
            ]
          },
          "metadata": {},
          "execution_count": 7
        }
      ]
    },
    {
      "cell_type": "code",
      "metadata": {
        "id": "dds5kBOYqukJ",
        "colab": {
          "base_uri": "https://localhost:8080/"
        },
        "outputId": "c472c733-5e98-4d80-99b2-aa8d221faa14"
      },
      "source": [
        "nlp.vocab['btw'].is_stop"
      ],
      "execution_count": 8,
      "outputs": [
        {
          "output_type": "execute_result",
          "data": {
            "text/plain": [
              "True"
            ]
          },
          "metadata": {},
          "execution_count": 8
        }
      ]
    },
    {
      "cell_type": "markdown",
      "metadata": {
        "id": "Rxdus8LmqukN"
      },
      "source": [
        "<font color=green>When adding stop words, always use lowercase. Lexemes are converted to lowercase before being added to **vocab**.</font>"
      ]
    },
    {
      "cell_type": "markdown",
      "metadata": {
        "id": "IXhk_8fmqukO"
      },
      "source": [
        "## To remove a stop word\n",
        "Alternatively, you may decide that `'beyond'` should not be considered a stop word."
      ]
    },
    {
      "cell_type": "code",
      "metadata": {
        "id": "Vd-TbJgwqukP"
      },
      "source": [
        "# Remove the word from the set of stop words\n",
        "nlp.Defaults.stop_words.remove('beyond')\n",
        "\n",
        "# Remove the stop_word tag from the lexeme\n",
        "nlp.vocab['beyond'].is_stop = False"
      ],
      "execution_count": 9,
      "outputs": []
    },
    {
      "cell_type": "code",
      "metadata": {
        "id": "LgpYSLt2qukV",
        "colab": {
          "base_uri": "https://localhost:8080/"
        },
        "outputId": "a3f20907-a044-461c-de89-1ce718270ed8"
      },
      "source": [
        "len(nlp.Defaults.stop_words)"
      ],
      "execution_count": 10,
      "outputs": [
        {
          "output_type": "execute_result",
          "data": {
            "text/plain": [
              "326"
            ]
          },
          "metadata": {},
          "execution_count": 10
        }
      ]
    },
    {
      "cell_type": "code",
      "metadata": {
        "id": "PC2_K1_qqukb",
        "colab": {
          "base_uri": "https://localhost:8080/"
        },
        "outputId": "9aa40424-65f8-417f-a2b0-5ba3900de251"
      },
      "source": [
        "nlp.vocab['beyond'].is_stop"
      ],
      "execution_count": 11,
      "outputs": [
        {
          "output_type": "execute_result",
          "data": {
            "text/plain": [
              "False"
            ]
          },
          "metadata": {},
          "execution_count": 11
        }
      ]
    }
  ]
}