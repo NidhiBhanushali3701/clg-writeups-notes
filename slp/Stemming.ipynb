{
  "nbformat": 4,
  "nbformat_minor": 0,
  "metadata": {
    "kernelspec": {
      "display_name": "Python 3",
      "language": "python",
      "name": "python3"
    },
    "language_info": {
      "codemirror_mode": {
        "name": "ipython",
        "version": 3
      },
      "file_extension": ".py",
      "mimetype": "text/x-python",
      "name": "python",
      "nbconvert_exporter": "python",
      "pygments_lexer": "ipython3",
      "version": "3.6.2"
    },
    "colab": {
      "name": "02_Stemming.ipynb",
      "provenance": []
    }
  },
  "cells": [
    {
      "cell_type": "markdown",
      "metadata": {
        "id": "r--D2AnSf2CG"
      },
      "source": [
        "# Stemming\n",
        "Often when searching text for a certain keyword, it helps if the search returns variations of the word. For instance, searching for \"boat\" might also return \"boats\" and \"boating\". Here, \"boat\" would be the **stem** for [boat, boater, boating, boats].\n",
        "\n",
        "Stemming is a somewhat crude method for cataloging related words; it essentially chops off letters from the end until the stem is reached. This works fairly well in most cases, but unfortunately English has many exceptions where a more sophisticated process is required. In fact, spaCy doesn't include a stemmer, opting instead to rely entirely on lemmatization. \n",
        "\n",
        "we'll use another popular NLP tool called **nltk**, which stands for *Natural Language Toolkit*. For more information on nltk visit https://www.nltk.org/"
      ]
    },
    {
      "cell_type": "markdown",
      "metadata": {
        "id": "shTCmumef2CJ"
      },
      "source": [
        "## Porter Stemmer\n",
        "\n",
        "One of the most common - and effective - stemming tools is [*Porter's Algorithm*](https://tartarus.org/martin/PorterStemmer/) developed by Martin Porter in [1980](https://tartarus.org/martin/PorterStemmer/def.txt). The algorithm employs five phases of word reduction, each with its own set of mapping rules. "
      ]
    },
    {
      "cell_type": "code",
      "metadata": {
        "id": "SVgTyvz6f2CO"
      },
      "source": [
        "# Import the toolkit and the full Porter Stemmer library\n",
        "import nltk\n",
        "\n",
        "from nltk.stem.porter import *"
      ],
      "execution_count": 1,
      "outputs": []
    },
    {
      "cell_type": "code",
      "metadata": {
        "id": "bnewnQx8f2CU"
      },
      "source": [
        "p_stemmer = PorterStemmer()"
      ],
      "execution_count": 2,
      "outputs": []
    },
    {
      "cell_type": "code",
      "metadata": {
        "id": "SMCQNy6Of2Ca"
      },
      "source": [
        "words = ['run','runner','running','ran','runs','easily','fairly']"
      ],
      "execution_count": 3,
      "outputs": []
    },
    {
      "cell_type": "code",
      "metadata": {
        "id": "H8VQTia5f2Cf",
        "colab": {
          "base_uri": "https://localhost:8080/"
        },
        "outputId": "82e19c85-ceb0-49b3-8439-690ba23f6231"
      },
      "source": [
        "for word in words:\n",
        "    print(word+' --> '+p_stemmer.stem(word))"
      ],
      "execution_count": 4,
      "outputs": [
        {
          "output_type": "stream",
          "name": "stdout",
          "text": [
            "run --> run\n",
            "runner --> runner\n",
            "running --> run\n",
            "ran --> ran\n",
            "runs --> run\n",
            "easily --> easili\n",
            "fairly --> fairli\n"
          ]
        }
      ]
    },
    {
      "cell_type": "markdown",
      "metadata": {
        "id": "JzdT2472f2Cl"
      },
      "source": [
        "<font color=green>Note how the stemmer recognizes \"runner\" as a noun, not a verb form or participle. Also, the adverbs \"easily\" and \"fairly\" are stemmed to the unusual root \"easili\" and \"fairli\"</font>\n",
        "___"
      ]
    },
    {
      "cell_type": "markdown",
      "metadata": {
        "id": "sP8_SaRPf2Cm"
      },
      "source": [
        "## Snowball Stemmer\n",
        "This is somewhat of a misnomer, as Snowball is the name of a stemming language developed by Martin Porter. The algorithm used here is more acurately called the \"English Stemmer\" or \"Porter2 Stemmer\". It offers a slight improvement over the original Porter stemmer, both in logic and speed. Since **nltk** uses the name SnowballStemmer, we'll use it here."
      ]
    },
    {
      "cell_type": "code",
      "metadata": {
        "id": "_3C_eVvuf2Cn"
      },
      "source": [
        "from nltk.stem.snowball import SnowballStemmer\n",
        "\n",
        "# The Snowball Stemmer requires that you pass a language parameter\n",
        "s_stemmer = SnowballStemmer(language='english')"
      ],
      "execution_count": 5,
      "outputs": []
    },
    {
      "cell_type": "code",
      "metadata": {
        "id": "z7-B0mmif2Ct"
      },
      "source": [
        "words = ['run','runner','running','ran','runs','easily','fairly']\n",
        "# words = ['generous','generation','generously','generate']"
      ],
      "execution_count": 6,
      "outputs": []
    },
    {
      "cell_type": "code",
      "metadata": {
        "id": "VbGRnGdDf2C1",
        "colab": {
          "base_uri": "https://localhost:8080/"
        },
        "outputId": "43bbbf79-7663-41b1-a144-6996ce204fb4"
      },
      "source": [
        "for word in words:\n",
        "    print(word+' --> '+s_stemmer.stem(word))"
      ],
      "execution_count": 7,
      "outputs": [
        {
          "output_type": "stream",
          "name": "stdout",
          "text": [
            "run --> run\n",
            "runner --> runner\n",
            "running --> run\n",
            "ran --> ran\n",
            "runs --> run\n",
            "easily --> easili\n",
            "fairly --> fair\n"
          ]
        }
      ]
    },
    {
      "cell_type": "markdown",
      "metadata": {
        "collapsed": true,
        "id": "UMN303TYf2C6"
      },
      "source": [
        "<font color=green>In this case the stemmer performed the same as the Porter Stemmer, with the exception that it handled the stem of \"fairly\" more appropriately with \"fair\"</font>\n",
        "___"
      ]
    },
    {
      "cell_type": "markdown",
      "metadata": {
        "id": "a71p4y_Mf2C6"
      },
      "source": [
        "## Try it yourself!\n",
        "#### Pass in some of your own words and test each stemmer on them. Remember to pass them as strings!"
      ]
    },
    {
      "cell_type": "code",
      "metadata": {
        "id": "eO-ZjzUwf2C7"
      },
      "source": [
        "words = ['consolingly']"
      ],
      "execution_count": null,
      "outputs": []
    },
    {
      "cell_type": "code",
      "metadata": {
        "id": "LivdEgm1f2DA",
        "colab": {
          "base_uri": "https://localhost:8080/"
        },
        "outputId": "cb703464-a6e2-4a29-a9ef-aded7b60d471"
      },
      "source": [
        "print('Porter Stemmer:')\n",
        "for word in words:\n",
        "    print(word+' --> '+p_stemmer.stem(word))"
      ],
      "execution_count": 8,
      "outputs": [
        {
          "output_type": "stream",
          "name": "stdout",
          "text": [
            "Porter Stemmer:\n",
            "run --> run\n",
            "runner --> runner\n",
            "running --> run\n",
            "ran --> ran\n",
            "runs --> run\n",
            "easily --> easili\n",
            "fairly --> fairli\n"
          ]
        }
      ]
    },
    {
      "cell_type": "code",
      "metadata": {
        "id": "mPNQvAwJf2DF",
        "colab": {
          "base_uri": "https://localhost:8080/"
        },
        "outputId": "0fb5fd4a-6bfb-447e-ca20-9a02df26ffd4"
      },
      "source": [
        "print('Porter2 Stemmer:')\n",
        "for word in words:\n",
        "    print(word+' --> '+s_stemmer.stem(word))"
      ],
      "execution_count": 9,
      "outputs": [
        {
          "output_type": "stream",
          "name": "stdout",
          "text": [
            "Porter2 Stemmer:\n",
            "run --> run\n",
            "runner --> runner\n",
            "running --> run\n",
            "ran --> ran\n",
            "runs --> run\n",
            "easily --> easili\n",
            "fairly --> fair\n"
          ]
        }
      ]
    },
    {
      "cell_type": "markdown",
      "metadata": {
        "id": "oytGU34af2DL"
      },
      "source": [
        "___\n",
        "Stemming has its drawbacks. If given the token `saw`, stemming might always return `saw`, whereas lemmatization would likely return either `see` or `saw` depending on whether the use of the token was as a verb or a noun. As an example, consider the following:"
      ]
    },
    {
      "cell_type": "code",
      "metadata": {
        "id": "Id4ySJJif2DL",
        "colab": {
          "base_uri": "https://localhost:8080/"
        },
        "outputId": "0abb23b7-0ed4-49af-c9bc-450fc4093735"
      },
      "source": [
        "phrase = 'I am meeting him tomorrow at the meeting'\n",
        "for word in phrase.split():\n",
        "    print(word+' --> '+p_stemmer.stem(word))"
      ],
      "execution_count": 10,
      "outputs": [
        {
          "output_type": "stream",
          "name": "stdout",
          "text": [
            "I --> I\n",
            "am --> am\n",
            "meeting --> meet\n",
            "him --> him\n",
            "tomorrow --> tomorrow\n",
            "at --> at\n",
            "the --> the\n",
            "meeting --> meet\n"
          ]
        }
      ]
    },
    {
      "cell_type": "markdown",
      "metadata": {
        "id": "czQSLNNif2DQ"
      },
      "source": [
        "Here the word \"meeting\" appears twice - once as a verb, and once as a noun, and yet the stemmer treats both equally."
      ]
    }
  ]
}