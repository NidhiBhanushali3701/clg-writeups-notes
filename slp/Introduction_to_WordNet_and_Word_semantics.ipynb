{
  "nbformat": 4,
  "nbformat_minor": 0,
  "metadata": {
    "anaconda-cloud": {},
    "kernelspec": {
      "display_name": "Python 2",
      "language": "python",
      "name": "python2"
    },
    "language_info": {
      "codemirror_mode": {
        "name": "ipython",
        "version": 2
      },
      "file_extension": ".py",
      "mimetype": "text/x-python",
      "name": "python",
      "nbconvert_exporter": "python",
      "pygments_lexer": "ipython2",
      "version": "2.7.12"
    },
    "colab": {
      "name": "Introduction_to_WordNet_and_Word_semantics.ipynb",
      "provenance": []
    }
  },
  "cells": [
    {
      "cell_type": "markdown",
      "metadata": {
        "id": "u3tgM5v9QtyS"
      },
      "source": [
        "<h1 align=\"center\">Introduction to WordNet and Word semantics</h1> "
      ]
    },
    {
      "cell_type": "markdown",
      "metadata": {
        "id": "uvmgT-ymQtyU"
      },
      "source": [
        "<h2>1. Distributional Semantics</h2>\n",
        "\n",
        "Distributional semantics is a research area that develops and studies theories and methods for quantifying and categorizing semantic similarities between linguistic items based on their distributional properties in large samples of language data.<br>\n",
        "The basic idea of distributional semantics can be summed up in the so-called Distributional hypothesis: linguistic items with similar distributions have similar meanings.[1]\n",
        "\n",
        "<h4>Distributional hypothesis</h4>\n",
        "\n",
        "The distributional hypothesis in linguistics is derived from the semantic theory of language usage, i.e. words that are used and occur in the same contexts tend to purport similar meanings.<br>\n",
        "The underlying idea that \"a word is characterized by the company it keeps\" was popularized by Firth.<br>\n",
        "Although the Distributional Hypothesis originated in linguistics, it is now receiving attention in cognitive science especially regarding the context of word use.<br>\n",
        "The distributional hypothesis suggests that the more semantically similar two words are, the more distributionally similar they will be in turn, and thus the more that they will tend to occur in similar linguistic contexts. <br>\n",
        "\n",
        "<h4>Distributional semantic modeling</h4>\n",
        "\n",
        "Distributional semantics favor the use of linear algebra as computational tool and representational framework. The basic approach is to collect distributional information in high-dimensional vectors, and to define distributional/semantic similarity in terms of vector similarity."
      ]
    },
    {
      "cell_type": "markdown",
      "metadata": {
        "id": "RRbxwKS5QtyV"
      },
      "source": [
        "<h3>Similarity measures for binary vectors</h3>"
      ]
    },
    {
      "cell_type": "markdown",
      "metadata": {
        "id": "PPAjzJjrQtyW"
      },
      "source": [
        "Let X and Y denote the binary distributional vectors for words X and Y. [2]\n",
        "\n",
        "$$Dice Cofficient: \\frac{2 \\mid \\vec{X} \\cap \\vec{Y} \\mid}{\\mid \\vec{X} \\mid + \\mid \\vec{Y} \\mid}$$\n",
        "$$Jaccard Cofficient: \\frac{\\mid \\vec{X} \\cap \\vec{Y} \\mid}{\\mid \\vec{X} \\mid + \\mid \\vec{Y} \\mid}$$\n",
        "$$Overlap Cofficient: \\frac{2 \\mid \\vec{X} \\cup \\vec{Y} \\mid}{min( \\mid \\vec{X} \\mid , \\mid \\vec{Y} \\mid )}$$\n",
        "\n",
        "$$Cosine Similarity: Cos( \\vec{X} , \\vec{Y} ) = \\frac{\\vec{X} \\cdot \\vec{Y} }{ \\mid \\vec{X} \\mid \\mid \\vec{Y} \\mid} \n",
        "$$\n",
        "\n",
        "<b>How to get distributional vectors (X and Y)? - Word2Vec </b>"
      ]
    },
    {
      "cell_type": "markdown",
      "metadata": {
        "id": "vOyv_qqbQtyX"
      },
      "source": [
        "<h3>Word2Vec</h3>\n",
        "- Word2vec is a group of related models that are used to produce word embeddings. Word2vec takes as its input a large corpus of text and produces a vector space, typically of several hundred dimensions, with each unique word in the corpus being assigned a corresponding vector in the space.[3]\n",
        "- Word vectors are positioned in the vector space such that words that share common contexts in the corpus are located in close proximity to one another in the space.\n",
        "- Word2vec can utilize either of two model architectures to produce a distributed representation of words:\n",
        "                - Continuous bag-of-words (CBOW) \n",
        "                - Continuous skip-gram."
      ]
    },
    {
      "cell_type": "markdown",
      "metadata": {
        "id": "LQKpY3KWQtyY"
      },
      "source": [
        "<h4>1. CBOW</h4>\n",
        "\n",
        "- In this model, a text (such as a sentence or a document) is represented as the bag (multiset) of its words, disregarding grammar and even word order but keeping multiplicity."
      ]
    },
    {
      "cell_type": "markdown",
      "metadata": {
        "id": "y0dKjPWaQtyZ"
      },
      "source": [
        "<h4>2. Skip Gram</h4>\n",
        "- skip-grams are a generalization of n-grams in which the components (typically words) need not be consecutive in the text under consideration, but may leave gaps that are skipped over. They provide one way of overcoming the data sparsity problem found with conventional n-gram analysis."
      ]
    },
    {
      "cell_type": "markdown",
      "metadata": {
        "id": "PlM6bAyaQtya"
      },
      "source": [
        "<h3>Relational Similarity</h3>\n",
        "\n",
        "- Two pairs (a,b) and (c,d) are said to be relationally similar if they have many similar relations. <br>\n",
        "                Example- king:man and queen:woman\n",
        "- Realtional semilarities can be exploited using vector arithmetic which is show in following example. Here we are performing vector addition of vectors of 'king' and 'woman' and subtacting 'queen' vector and the result we are getting is most similar to 'men'\n",
        "- Read more on relational semantics and word analogy on\n",
        "    https://levyomer.wordpress.com/2014/04/25/linguistic-regularities-in-sparse-and-explicit-word-representations/ [4]\n",
        "- Dataset description: Dataset taken is pre trained vectors trained on part of Google News dataset (about 100 billion words). The model contains 300-dimensional vectors for 3 million words and phrases. The phrases were obtained using a simple data-driven approach described in [2]. We have extracted about 50-70 vectors out of original model because it is easy for explanation purpose. \n",
        "    "
      ]
    },
    {
      "cell_type": "code",
      "metadata": {
        "id": "EsnHXY9aQtyb",
        "colab": {
          "base_uri": "https://localhost:8080/"
        },
        "outputId": "93b55f8e-8634-48da-badf-c6000e476694"
      },
      "source": [
        "#Example showing vector arithmetic to exploit word similarities\n",
        "#Precomputed vectors data taken from: https://code.google.com/archive/p/word2vec/\n",
        "from scipy import spatial\n",
        "import numpy as np\n",
        "dictionary = dict()\n",
        "with open(\"extracted_vectors.txt\",\"r\") as f: #sentences is the data set we have used\n",
        "    for line in f:\n",
        "        temp = line.strip(\"\\n\").split(\",\")\n",
        "        vector = temp[1].split(\";\")\n",
        "        vector = [float(i) for i in vector]\n",
        "        dictionary[temp[0]] = vector\n",
        "king = np.asarray(dictionary['king'])\n",
        "queen = np.asarray(dictionary['queen'])\n",
        "man = np.asarray(dictionary['man'])\n",
        "woman = np.asarray(dictionary['woman'])\n",
        "water = np.asarray(dictionary['water'])\n",
        "\n",
        "#simiarity between (vector(king)-vector(man)) and (vector(queen)-vector(woman))\n",
        "similarity = 1 - spatial.distance.cosine(king-man,queen-woman)\n",
        "#print 'Similarity: '\n",
        "print ('similarity')\n",
        "\n",
        "#similarly you can provide---\n",
        "#hot + weak - cold = strong\n",
        "#France + Athens - Paris = Greece/Greek"
      ],
      "execution_count": 2,
      "outputs": [
        {
          "output_type": "stream",
          "name": "stdout",
          "text": [
            "similarity\n"
          ]
        }
      ]
    },
    {
      "cell_type": "markdown",
      "metadata": {
        "id": "OF0wD3KcQtyg"
      },
      "source": [
        "- In the following code snippet, we are showing cosine distance of 'king' with 'queen','man', and 'woman'.\n",
        "- The resultant graph shows that since the cosine distance of 'king' and 'queen' is less,thus 'king' is more closely related to 'queen' than 'man' and at last 'woman', taking vectors of these words mentioned above in notebook.\n",
        "- For this install 'matplotlib':\n",
        "                pip install matplotlib"
      ]
    },
    {
      "cell_type": "code",
      "metadata": {
        "id": "ONQ4S3HvQtyh",
        "colab": {
          "base_uri": "https://localhost:8080/",
          "height": 281
        },
        "outputId": "f0334c05-99c9-484c-c2b4-b91288476aca"
      },
      "source": [
        "#Graph plot using matplotlib\n",
        "import matplotlib.pyplot as plt\n",
        "import numpy as np\n",
        "fig = plt.figure()\n",
        "ax = fig.add_subplot(111)\n",
        "plt.title('Similarity based on cosine distance')\n",
        "names = [['king','queen'],['man','woman'],['king','water']]\n",
        "k=1\n",
        "plt.plot([0],[0])\n",
        "for i in names:\n",
        "    y = [k,k]\n",
        "    x = [0.5,0.5]\n",
        "    dist = spatial.distance.cosine(dictionary[i[0]],dictionary[i[1]])\n",
        "    dist = dist/2\n",
        "    x[0] = x[0] - dist\n",
        "    x[1] = x[1] + dist\n",
        "    myvec = np.array([x,y])\n",
        "    j=0\n",
        "    for xy in zip(x, y):    \n",
        "        ax.annotate(str(i[j]), xy=xy, textcoords='data',va='bottom')\n",
        "        j = j + 1\n",
        "    plt.plot(myvec[0,],myvec[1,])\n",
        "    j = 0\n",
        "    k = k+1\n",
        "plt.plot([0],[4])    \n",
        "plt.show()"
      ],
      "execution_count": 3,
      "outputs": [
        {
          "output_type": "display_data",
          "data": {
            "text/plain": [
              "<Figure size 432x288 with 1 Axes>"
            ],
            "image/png": "[encoded data removed]"
          },
          "metadata": {
            "needs_background": "light"
          }
        }
      ]
    },
    {
      "cell_type": "markdown",
      "metadata": {
        "id": "24cDWBDOQtym"
      },
      "source": [
        "<h2>2. WordNet :</h2>"
      ]
    },
    {
      "cell_type": "markdown",
      "metadata": {
        "id": "lkxci4qrQtym"
      },
      "source": [
        "WordNet is a large lexical database of English. Nouns, verbs, adjectives and adverbs are grouped into sets of cognitive synonyms (synsets), each expressing a distinct concept. Synsets are interlinked by means of conceptual-semantic and lexical relations. The resulting network of meaningfully related words and concepts can be navigated with the browser.WordNet's structure makes it a useful tool for computational linguistics and natural language processing.[5]\n",
        "\n",
        "WordNet superficially resembles a thesaurus, in that it groups words together based on their meanings. However, there are some important distinctions. First, WordNet interlinks not just word forms—strings of letters—but specific senses of words. As a result, words that are found in close proximity to one another in the network are semantically disambiguated. Second, WordNet labels the semantic relations among words, whereas the groupings of words in a thesaurus does not follow any explicit pattern other than meaning similarity."
      ]
    },
    {
      "cell_type": "markdown",
      "metadata": {
        "id": "kxSRekm8Qtyn"
      },
      "source": [
        "<h4>Application of wordnet :</h4>"
      ]
    },
    {
      "cell_type": "markdown",
      "metadata": {
        "id": "RydLRb-LQtyo"
      },
      "source": [
        "WordNet has been used for a number of different purposes in information systems, including word-sense disambiguation, information retrieval, automatic text classification, automatic text summarization, machine translation and even automatic crossword puzzle generation.\n",
        "\n",
        "A common use of WordNet is to determine the similarity between words. Various algorithms have been proposed, and these include measuring the distance among the words and synsets in WordNet's graph structure, such as by counting the number of edges among synsets. The intuition is that the closer two words or synsets are, the closer their meaning. A number of WordNet-based word similarity algorithms are implemented in a Perl package called WordNet::Similarity and in a Python package called NLTK. Other more sophisticated WordNet-based similarity techniques include ADW, whose implementation is available in Java. WordNet can also be used to inter-link other vocabularies."
      ]
    },
    {
      "cell_type": "markdown",
      "metadata": {
        "id": "XVstGx3MQtyp"
      },
      "source": [
        "<h5>Downloading WordNet</h5>\n",
        "- You can download wordNet corpus from nltk. Run form python terminal\n",
        "                            - import nltk\n",
        "                            - nltk.download()\n",
        "  and from the dialog-box, download 'wordnet' corpus."
      ]
    },
    {
      "cell_type": "markdown",
      "metadata": {
        "collapsed": true,
        "id": "V2Li-n68Qtyp"
      },
      "source": [
        "<h5>Synonyms of a word</h5>"
      ]
    },
    {
      "cell_type": "code",
      "metadata": {
        "scrolled": false,
        "id": "HbqDouAIQtyq",
        "colab": {
          "base_uri": "https://localhost:8080/"
        },
        "outputId": "a660e168-eefc-460f-f942-bbbab7e7ea9d"
      },
      "source": [
        "#Example showing synonyms\n",
        "import nltk\n",
        "nltk.download('wordnet')\n",
        "from nltk.corpus import wordnet\n",
        "from nltk.corpus import wordnet_ic\n",
        "syns = wordnet.synsets(\"good\")\n",
        "\n",
        "for syn in syns:\n",
        "    print(syn)"
      ],
      "execution_count": 5,
      "outputs": [
        {
          "output_type": "stream",
          "name": "stdout",
          "text": [
            "[nltk_data] Downloading package wordnet to /root/nltk_data...\n",
            "[nltk_data]   Unzipping corpora/wordnet.zip.\n",
            "Synset('good.n.01')\n",
            "Synset('good.n.02')\n",
            "Synset('good.n.03')\n",
            "Synset('commodity.n.01')\n",
            "Synset('good.a.01')\n",
            "Synset('full.s.06')\n",
            "Synset('good.a.03')\n",
            "Synset('estimable.s.02')\n",
            "Synset('beneficial.s.01')\n",
            "Synset('good.s.06')\n",
            "Synset('good.s.07')\n",
            "Synset('adept.s.01')\n",
            "Synset('good.s.09')\n",
            "Synset('dear.s.02')\n",
            "Synset('dependable.s.04')\n",
            "Synset('good.s.12')\n",
            "Synset('good.s.13')\n",
            "Synset('effective.s.04')\n",
            "Synset('good.s.15')\n",
            "Synset('good.s.16')\n",
            "Synset('good.s.17')\n",
            "Synset('good.s.18')\n",
            "Synset('good.s.19')\n",
            "Synset('good.s.20')\n",
            "Synset('good.s.21')\n",
            "Synset('well.r.01')\n",
            "Synset('thoroughly.r.02')\n"
          ]
        }
      ]
    },
    {
      "cell_type": "code",
      "metadata": {
        "id": "JizsTLkqQtyv",
        "colab": {
          "base_uri": "https://localhost:8080/"
        },
        "outputId": "903c2a08-022c-493e-9b38-1318f498016c"
      },
      "source": [
        "#In order to print just first synonym\n",
        "print(\"Just the first synonym : \" , syns[0])\n",
        "print(\"Only the name : \" , syns[0].lemmas()[0].name())\n",
        "print(\"\\n\")\n",
        "\n",
        "#In order to print the definition:\n",
        "print (\"Definition:\")\n",
        "print (syns[0].definition())\n",
        "print(\"\\n\")\n",
        "\n",
        "#In order to print the examples:\n",
        "print(\"Examples:\")\n",
        "print (syns[0].examples())"
      ],
      "execution_count": 9,
      "outputs": [
        {
          "output_type": "stream",
          "name": "stdout",
          "text": [
            "Just the first synonym :  Synset('good.n.01')\n",
            "Only the name :  good\n",
            "\n",
            "\n",
            "Definition:\n",
            "benefit\n",
            "\n",
            "\n",
            "Examples:\n",
            "['for your own good', \"what's the good of worrying?\"]\n"
          ]
        }
      ]
    },
    {
      "cell_type": "markdown",
      "metadata": {
        "id": "Tj8w1ji3Qty0"
      },
      "source": [
        "<h5>A compiled example : </h5>"
      ]
    },
    {
      "cell_type": "markdown",
      "metadata": {
        "id": "Q847H2w4Qty1"
      },
      "source": [
        "- Install wordcloud and ipywidgets:\n",
        "                    pip install wordcloud\n",
        "                    pip install ipywidgets                    "
      ]
    },
    {
      "cell_type": "code",
      "metadata": {
        "scrolled": true,
        "id": "JsOBSFMpQty2",
        "colab": {
          "base_uri": "https://localhost:8080/",
          "height": 414
        },
        "outputId": "f3c2e0d7-e338-48c4-8b3f-fe3a2293bcf2"
      },
      "source": [
        "#Example showing synonyms and antonyms\n",
        "from IPython.display import display, clear_output\n",
        "from ipywidgets import widgets\n",
        "from wordcloud import WordCloud\n",
        "import matplotlib.pyplot as plt\n",
        "import warnings\n",
        "warnings.filterwarnings('ignore')\n",
        "#show plot inline instead of new window\n",
        "%matplotlib inline\n",
        "\n",
        "#show text input widget\n",
        "print(\"Enter word : \")\n",
        "text = widgets.Text(value=\"right\")\n",
        "display(text)\n",
        "\n",
        "def text_handler(sender):\n",
        "    ''' on input find synonyms and antonyms and plot it. '''\n",
        "    \n",
        "    #clear the output\n",
        "    clear_output()\n",
        "    \n",
        "    synonyms = []\n",
        "    antonyms = []\n",
        "\n",
        "    #find synonyms and antonyms\n",
        "    for syn in wordnet.synsets(text.value):\n",
        "        for l in syn.lemmas():\n",
        "            synonyms.append(l.name())\n",
        "            if (l.antonyms()):\n",
        "                antonyms.append(l.antonyms()[0].name())\n",
        "               \n",
        "    #plot synonyms\n",
        "    if len(synonyms)==0:\n",
        "        print(\"No synonyms found.\")\n",
        "    else:\n",
        "        print(\"synonyms : \")\n",
        "        wordcloud = WordCloud(max_font_size=40, relative_scaling=.5).generate(' '.join(list(set(synonyms))))\n",
        "        plt.figure()\n",
        "        plt.imshow(wordcloud)\n",
        "        plt.axis(\"off\")\n",
        "        plt.show()\n",
        "\n",
        "    #plot antonyms\n",
        "    if len(antonyms)==0:\n",
        "        print(\"No antonyms found.\")\n",
        "    else:\n",
        "        print(\"antonyms : \")\n",
        "        wordcloud = WordCloud(max_font_size=40, relative_scaling=.5).generate(' '.join(list(set(antonyms))))\n",
        "        plt.figure()\n",
        "        plt.imshow(wordcloud)\n",
        "        plt.axis(\"off\")\n",
        "        plt.show()\n",
        "\n",
        "#plot default value\n",
        "text_handler(None)\n",
        "\n",
        "#register handler for text input\n",
        "text.on_submit(text_handler)"
      ],
      "execution_count": 10,
      "outputs": [
        {
          "output_type": "stream",
          "name": "stdout",
          "text": [
            "synonyms : \n"
          ]
        },
        {
          "output_type": "display_data",
          "data": {
            "text/plain": [
              "<Figure size 432x288 with 1 Axes>"
            ],
            "image/png": "[encoded data removed]"
          },
          "metadata": {
            "needs_background": "light"
          }
        },
        {
          "output_type": "stream",
          "name": "stdout",
          "text": [
            "antonyms : \n"
          ]
        },
        {
          "output_type": "display_data",
          "data": {
            "text/plain": [
              "<Figure size 432x288 with 1 Axes>"
            ],
            "image/png": "[encoded data removed]"
          },
          "metadata": {
            "needs_background": "light"
          }
        }
      ]
    },
    {
      "cell_type": "markdown",
      "metadata": {
        "id": "HZeE7YyRQty8"
      },
      "source": [
        "<h5>Similarity between words : </h5>"
      ]
    },
    {
      "cell_type": "code",
      "metadata": {
        "id": "coCASLK_Qty9",
        "colab": {
          "base_uri": "https://localhost:8080/"
        },
        "outputId": "dd3491f1-691c-4fbd-ab14-387e709cafae"
      },
      "source": [
        "w1=wordnet.synset(\"boat.n.01\")\n",
        "w2=wordnet.synset(\"ship.n.01\")\n",
        "print (\"Similarity between boat and sheep\", w1.wup_similarity(w2))\n",
        "\n",
        "w1=wordnet.synset(\"boat.n.01\")\n",
        "w2=wordnet.synset(\"cat.n.01\")\n",
        "print (\"Similarity between boat and cat\", w1.wup_similarity(w2))\n",
        "\n",
        "w1=wordnet.synset(\"boat.n.01\")\n",
        "w2=wordnet.synset(\"car.n.01\")\n",
        "print (\"Similarity between boat and car\", w1.wup_similarity(w2))"
      ],
      "execution_count": 11,
      "outputs": [
        {
          "output_type": "stream",
          "name": "stdout",
          "text": [
            "Similarity between boat and sheep 0.9090909090909091\n",
            "Similarity between boat and cat 0.32\n",
            "Similarity between boat and car 0.6956521739130435\n"
          ]
        }
      ]
    },
    {
      "cell_type": "markdown",
      "metadata": {
        "id": "0jZpCOmMQtzA"
      },
      "source": [
        "<h4>Finding similarity between any two words:</h4>"
      ]
    },
    {
      "cell_type": "code",
      "metadata": {
        "id": "EMrh9-8eQtzB",
        "colab": {
          "base_uri": "https://localhost:8080/"
        },
        "outputId": "3811db28-28ec-4fba-e3ab-b632b08eefea"
      },
      "source": [
        "text1 = widgets.Text(value=\"boat\")\n",
        "display(text1)\n",
        "\n",
        "text2 = widgets.Text(value=\"ship\")\n",
        "display(text2)\n",
        "\n",
        "def text_handler(sender):\n",
        "    ''' on input find print wup similarity. '''\n",
        "    \n",
        "    #clear the output\n",
        "    clear_output()\n",
        "    \n",
        "    try:\n",
        "        word1 = wordnet.synsets(text1.value)[0]\n",
        "        word2 = wordnet.synsets(text2.value)[0]\n",
        "        print(\"Similarity : \",word1.wup_similarity(word2))\n",
        "    except:\n",
        "        print(\"Word not found\")\n",
        "\n",
        "#register handler for text input\n",
        "text1.on_submit(text_handler)\n",
        "text2.on_submit(text_handler)\n",
        "\n",
        "#similarity of default value\n",
        "text_handler(None)"
      ],
      "execution_count": 12,
      "outputs": [
        {
          "output_type": "stream",
          "name": "stdout",
          "text": [
            "Similarity :  0.9090909090909091\n"
          ]
        }
      ]
    },
    {
      "cell_type": "markdown",
      "metadata": {
        "id": "eACFanSKQtzF"
      },
      "source": [
        "<h2>3. Lexical Semantics</h2>\n",
        "- Lexical semantics is concerned with the systematic meaning related connections among lexical items, and the internal meaning-related structure of individual lexical items.\n",
        "- To identify the semantics of lexical items, we need to focus on the notion of lexeme , an individual entry in the lexicon.[2]\n",
        "\n",
        "<h3>Relations between Word Meanings</h3>\n",
        "        - Synonymy\n",
        "        - Antonymy\n",
        "        - Hyponymy\n",
        "        - Hypernymy\n",
        "        and many more."
      ]
    },
    {
      "cell_type": "markdown",
      "metadata": {
        "id": "Q16lGmX3QtzG"
      },
      "source": [
        "<h4>Hypernyms and Hyponyms</h4>\n",
        "- Hyponym shares a type-of relationship with its hypernym. \n",
        "- For example, pigeon, crow, eagle and seagull are all hyponyms of bird (their hypernym); which, in turn, is a hyponym of animal.\n",
        "- Example explains more.\n",
        "\n",
        "http://www.nltk.org/howto/wordnet.html"
      ]
    },
    {
      "cell_type": "code",
      "metadata": {
        "id": "T06MQg8dQtzH",
        "colab": {
          "base_uri": "https://localhost:8080/"
        },
        "outputId": "43e9b681-72f0-47c1-8fff-78058cbc4f32"
      },
      "source": [
        "car = wordnet.synset('car.n.01')\n",
        "print (\"Hyponyms of car:\")\n",
        "for i in car.hyponyms():\n",
        "        print (i.lemmas()[0].name())\n",
        "#print car.hyponyms()[0].lemmas()[0].name()\n",
        "print ('\\n')\n",
        "print (\"Hypernyms of car:\")\n",
        "for i in car.hypernyms():\n",
        "        print(i.lemmas()[0].name())\n",
        "#print car.hypernyms()[0].lemmas()[0].name()"
      ],
      "execution_count": 16,
      "outputs": [
        {
          "output_type": "stream",
          "name": "stdout",
          "text": [
            "Hyponyms of car:\n",
            "ambulance\n",
            "beach_wagon\n",
            "bus\n",
            "cab\n",
            "compact\n",
            "convertible\n",
            "coupe\n",
            "cruiser\n",
            "electric\n",
            "gas_guzzler\n",
            "hardtop\n",
            "hatchback\n",
            "horseless_carriage\n",
            "hot_rod\n",
            "jeep\n",
            "limousine\n",
            "loaner\n",
            "minicar\n",
            "minivan\n",
            "Model_T\n",
            "pace_car\n",
            "racer\n",
            "roadster\n",
            "sedan\n",
            "sport_utility\n",
            "sports_car\n",
            "Stanley_Steamer\n",
            "stock_car\n",
            "subcompact\n",
            "touring_car\n",
            "used-car\n",
            "\n",
            "\n",
            "Hypernyms of car:\n",
            "motor_vehicle\n"
          ]
        }
      ]
    },
    {
      "cell_type": "markdown",
      "metadata": {
        "id": "qJEQKgGTQtzM"
      },
      "source": [
        "<h3>Lowest Common Hypernym/Ancestors/Subsummer</h3>\n",
        "- Least Common Subsumer of two concepts A and B is \"the most specific concept which is an ancestor of both A and B\", where the concept tree is defined by the is-a relation. \n",
        "- Below snippet explains the concept. As you can see \"policeman\" and \"firefighter\" shares the least common hypernym \"defender\"\n",
        "- Still don't get the idea? Try out any two words of your choice and paly around with it."
      ]
    },
    {
      "cell_type": "code",
      "metadata": {
        "id": "C8GhjJVOQtzM",
        "colab": {
          "base_uri": "https://localhost:8080/"
        },
        "outputId": "4983d6cc-a914-4cfa-ed36-41eecc160164"
      },
      "source": [
        "print (\"Lowest Common Ancestor of 'Policeman' and 'Firefighter':\")\n",
        "print (wordnet.synset('policeman.n.01').lowest_common_hypernyms(wordnet.synset('firefighter.n.01'))[0].name())\n",
        "print ('\\n')\n",
        "print (\"Hypernym path to root for  policeman:\")\n",
        "j = 0\n",
        "for i in wordnet.synset('policeman.n.01').hypernym_paths()[0]:\n",
        "    print (\" \"*j*2, i.name())\n",
        "    j = j + 1\n",
        "print ('\\n')\n",
        "print (\"Hypernym path to root for  firefighter:\")\n",
        "for i in wordnet.synset('firefighter.n.01').hypernym_paths()[0]:\n",
        "    print (\" \"*j*2, i.name())\n",
        "    j = j + 1\n",
        "    "
      ],
      "execution_count": 25,
      "outputs": [
        {
          "output_type": "stream",
          "name": "stdout",
          "text": [
            "Lowest Common Ancestor of 'Policeman' and 'Firefighter':\n",
            "defender.n.01\n",
            "\n",
            "\n",
            "Hypernym path to root for  policeman:\n",
            " entity.n.01\n",
            "   physical_entity.n.01\n",
            "     causal_agent.n.01\n",
            "       person.n.01\n",
            "         preserver.n.03\n",
            "           defender.n.01\n",
            "             lawman.n.01\n",
            "               policeman.n.01\n",
            "\n",
            "\n",
            "Hypernym path to root for  firefighter:\n",
            "                 entity.n.01\n",
            "                   physical_entity.n.01\n",
            "                     causal_agent.n.01\n",
            "                       person.n.01\n",
            "                         preserver.n.03\n",
            "                           defender.n.01\n",
            "                             fireman.n.04\n"
          ]
        }
      ]
    },
    {
      "cell_type": "markdown",
      "metadata": {
        "id": "kfO0lGMaQtzQ"
      },
      "source": [
        "<h3>Concept Probability Models</h3>\n",
        "- For each concept(synset) c, let P(c) be the probability that a randomly selected word in a corpus is an instance (hyponym) of c.\n",
        "- P(ROOT) = 1\n",
        "- The lower the node in the hierarchy, the lower its probability.\n",
        "- Information content, \n",
        "             IC(c)=-logp(c)\n",
        "\n",
        "<h4>1.Resnik Similarity</h4>\n",
        " - Measures the commonality between the words by the information content of lowest common subsumer.\n",
        "\n",
        "<h4>2.Lin Similarity</h4>\n",
        " - The more information content the words don't share, the less similar they are.\n",
        "\n",
        "<h4>3.Jiang-Conrath Similarity</h4>\n",
        " - We use information content to assign lengths to grsaph edges.\n",
        " \n",
        " \n",
        "Note: For the following code snippet, download \"wordnet_ic\" from nltk"
      ]
    },
    {
      "cell_type": "code",
      "metadata": {
        "id": "IzS6Z8sBQtzR",
        "colab": {
          "base_uri": "https://localhost:8080/"
        },
        "outputId": "23175edc-523d-4095-c9f7-7816aeef3c1a"
      },
      "source": [
        "#Download wordnet_ic from wordnet\n",
        "nltk.download('wordnet_ic')\n",
        "brown_ic = wordnet_ic.ic('ic-brown.dat')\n",
        "dog = wordnet.synset('dog.n.01')\n",
        "cat = wordnet.synset('cat.n.01')\n",
        "print (dog.res_similarity(cat, brown_ic)) #resnik similarity between cat and dog\n",
        "print (dog.jcn_similarity(cat, brown_ic)) #jiang similarity\n",
        "print (dog.lin_similarity(cat, brown_ic)) #lin similarity"
      ],
      "execution_count": 27,
      "outputs": [
        {
          "output_type": "stream",
          "name": "stdout",
          "text": [
            "[nltk_data] Downloading package wordnet_ic to /root/nltk_data...\n",
            "[nltk_data]   Unzipping corpora/wordnet_ic.zip.\n",
            "7.911666509036577\n",
            "0.4497755285516739\n",
            "0.8768009843733973\n"
          ]
        }
      ]
    },
    {
      "cell_type": "markdown",
      "metadata": {
        "id": "K5n3tZpRQtzV"
      },
      "source": [
        "<h2>4. Word Sense Disambiguation</h2>\n",
        "- Word-Sense Disambiguation (WSD) is an open problem of natural language processing and ontology. WSD is identifying which sense of a word (i.e. meaning) is used in a sentence, when the word has multiple meanings.[6]\n",
        "- To date, a rich variety of techniques have been researched, from dictionary-based methods that use the knowledge encoded in lexical resources, to supervised machine learning methods in which a classifier is trained for each distinct word on a corpus of manually sense-annotated examples, to completely unsupervised methods that cluster occurrences of words, thereby inducing word senses. \n",
        "- nltk provies lesk algorithm for WSD, use of which is explained in the following code snippet:"
      ]
    },
    {
      "cell_type": "code",
      "metadata": {
        "id": "XqjwS00CQtzW",
        "colab": {
          "base_uri": "https://localhost:8080/"
        },
        "outputId": "062c9239-a6b2-4a79-87d1-a970cbd1693e"
      },
      "source": [
        "#http://stackoverflow.com/questions/3699810/word-sense-disambiguation-in-nltk-python\n",
        "from nltk.wsd import lesk\n",
        "sent = 'I went to the bank to deposit my money'\n",
        "ambiguous = 'bank'\n",
        "print (\"Sense of'\", ambiguous, \"'in current context:\")\n",
        "print (lesk(sent, ambiguous).definition())"
      ],
      "execution_count": 29,
      "outputs": [
        {
          "output_type": "stream",
          "name": "stdout",
          "text": [
            "Sense of' bank 'in current context:\n",
            "a container (usually with a slot in the top) for keeping money at home\n"
          ]
        }
      ]
    },
    {
      "cell_type": "markdown",
      "metadata": {
        "id": "yHXPEKRIQtza"
      },
      "source": [
        "- As you can see in the previous example, built-in lesk algorithm fails to identify correct sense of the word. There are many better lesk implementations available that you can use."
      ]
    },
    {
      "cell_type": "markdown",
      "metadata": {
        "id": "MkjIgP13Qtzb"
      },
      "source": [
        "<h3>A better WSD</h3>\n",
        "- 'lesk' implementation provided by pywsd gives much better results than the nltk version.\n",
        "- You can download and install it from : https://github.com/alvations/pywsd  [7] \n",
        "- Instructions for installing it will be there in the '.yml' file. Please make sure the you have installed all the dependencies as specified in the '.yml' file\n",
        "- Still getting errors? Make sure that you have downloaded\n",
        "         - 'stopwords' corpus\n",
        "         -  averaged_perception_tagger \n",
        "  from nltk.download(). (These requirements are already specified in the dependencies for pywsd)"
      ]
    },
    {
      "cell_type": "markdown",
      "metadata": {
        "id": "fHC93mGCQtzf"
      },
      "source": [
        "<h3>References:</h3>\n",
        "<pre>\n",
        "[1]Distributional semantics https://en.wikipedia.org/wiki/Distributional_semantics\n",
        "[2]Pawan Goyal, Lecture slides, Speech and natural language processing (CS60057), Autumn 2016, IIT Kharagpur.\n",
        "[3]Mikolov, Tomas, et al. \"Efficient estimation of word representations in vector space.\" arXiv preprint arXiv:1301.3781 (2013).\n",
        "[4]Levy, Omer, Yoav Goldberg, and Israel Ramat-Gan. \"Linguistic Regularities in Sparse and Explicit Word Representations.\" CoNLL. 2014.\n",
        "[5]About Wordnet, https://wordnet.princeton.edu/\n",
        "[6]Word-sense disambiguation\n",
        "[7]Liling Tan. 2014. Pywsd: Python Implementations of Word Sense Disambiguation (WSD) Technologies [software]. Retrieved from https://github.com/alvations/pywsd\n",
        "[8]Tomas Mikolov, Ilya Sutskever, Kai Chen, Greg Corrado, and Jeffrey Dean. Distributed Representations of Words and Phrases and their Compositionality. In Proceedings of NIPS, 2013.\n",
        "</pre>"
      ]
    }
  ]
}